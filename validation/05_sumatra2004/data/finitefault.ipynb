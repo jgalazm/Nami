{
 "cells": [
  {
   "cell_type": "code",
   "execution_count": 1,
   "metadata": {},
   "outputs": [],
   "source": [
    "import numpy as np\n",
    "import matplotlib.pyplot as plt\n",
    "%matplotlib inline"
   ]
  },
  {
   "cell_type": "code",
   "execution_count": 2,
   "metadata": {},
   "outputs": [],
   "source": [
    "import pandas as pd"
   ]
  },
  {
   "cell_type": "code",
   "execution_count": 3,
   "metadata": {},
   "outputs": [],
   "source": [
    "df = pd.read_csv('ammo.txt', delim_whitespace=True, skiprows=24,comment='%',names='lat lon x y depth slip rake trup'.split())\n",
    "\n",
    "df['L'] = 20e3\n",
    "df['W'] = 16e3\n",
    "df['reference'] = 'mid top'\n",
    "df['depth'] *= 1000\n",
    "\n",
    "df.loc[:210, 'dip'] = 12\n",
    "df.loc[:210, 'strike'] = 315\n",
    "\n",
    "df.loc[210:(210+408),'dip'] = 15\n",
    "df.loc[210:(210+408),'strike'] = 342\n",
    "\n",
    "df.loc[(210+408):,'dip'] = 17.5\n",
    "df.loc[(210+408):,'strike'] = 5"
   ]
  },
  {
   "cell_type": "code",
   "execution_count": 4,
   "metadata": {},
   "outputs": [
    {
     "data": {
      "text/html": [
       "<div>\n",
       "<style scoped>\n",
       "    .dataframe tbody tr th:only-of-type {\n",
       "        vertical-align: middle;\n",
       "    }\n",
       "\n",
       "    .dataframe tbody tr th {\n",
       "        vertical-align: top;\n",
       "    }\n",
       "\n",
       "    .dataframe thead th {\n",
       "        text-align: right;\n",
       "    }\n",
       "</style>\n",
       "<table border=\"1\" class=\"dataframe\">\n",
       "  <thead>\n",
       "    <tr style=\"text-align: right;\">\n",
       "      <th></th>\n",
       "      <th>lat</th>\n",
       "      <th>lon</th>\n",
       "      <th>depth</th>\n",
       "      <th>slip</th>\n",
       "      <th>dip</th>\n",
       "      <th>rake</th>\n",
       "      <th>strike</th>\n",
       "      <th>L</th>\n",
       "      <th>W</th>\n",
       "      <th>reference</th>\n",
       "    </tr>\n",
       "  </thead>\n",
       "  <tbody>\n",
       "    <tr>\n",
       "      <th>0</th>\n",
       "      <td>1.9363</td>\n",
       "      <td>95.2389</td>\n",
       "      <td>3407.5</td>\n",
       "      <td>1.6727</td>\n",
       "      <td>12.0</td>\n",
       "      <td>66.9309</td>\n",
       "      <td>315.0</td>\n",
       "      <td>20000.0</td>\n",
       "      <td>16000.0</td>\n",
       "      <td>mid top</td>\n",
       "    </tr>\n",
       "    <tr>\n",
       "      <th>1</th>\n",
       "      <td>2.0636</td>\n",
       "      <td>95.1114</td>\n",
       "      <td>3407.5</td>\n",
       "      <td>1.9116</td>\n",
       "      <td>12.0</td>\n",
       "      <td>66.5734</td>\n",
       "      <td>315.0</td>\n",
       "      <td>20000.0</td>\n",
       "      <td>16000.0</td>\n",
       "      <td>mid top</td>\n",
       "    </tr>\n",
       "    <tr>\n",
       "      <th>2</th>\n",
       "      <td>2.1908</td>\n",
       "      <td>94.9839</td>\n",
       "      <td>3407.5</td>\n",
       "      <td>0.8661</td>\n",
       "      <td>12.0</td>\n",
       "      <td>70.9693</td>\n",
       "      <td>315.0</td>\n",
       "      <td>20000.0</td>\n",
       "      <td>16000.0</td>\n",
       "      <td>mid top</td>\n",
       "    </tr>\n",
       "    <tr>\n",
       "      <th>3</th>\n",
       "      <td>2.3181</td>\n",
       "      <td>94.8564</td>\n",
       "      <td>3407.5</td>\n",
       "      <td>0.0980</td>\n",
       "      <td>12.0</td>\n",
       "      <td>75.9351</td>\n",
       "      <td>315.0</td>\n",
       "      <td>20000.0</td>\n",
       "      <td>16000.0</td>\n",
       "      <td>mid top</td>\n",
       "    </tr>\n",
       "    <tr>\n",
       "      <th>4</th>\n",
       "      <td>2.4454</td>\n",
       "      <td>94.7289</td>\n",
       "      <td>3407.5</td>\n",
       "      <td>0.4615</td>\n",
       "      <td>12.0</td>\n",
       "      <td>117.4263</td>\n",
       "      <td>315.0</td>\n",
       "      <td>20000.0</td>\n",
       "      <td>16000.0</td>\n",
       "      <td>mid top</td>\n",
       "    </tr>\n",
       "  </tbody>\n",
       "</table>\n",
       "</div>"
      ],
      "text/plain": [
       "      lat      lon   depth    slip   dip      rake  strike        L        W  \\\n",
       "0  1.9363  95.2389  3407.5  1.6727  12.0   66.9309   315.0  20000.0  16000.0   \n",
       "1  2.0636  95.1114  3407.5  1.9116  12.0   66.5734   315.0  20000.0  16000.0   \n",
       "2  2.1908  94.9839  3407.5  0.8661  12.0   70.9693   315.0  20000.0  16000.0   \n",
       "3  2.3181  94.8564  3407.5  0.0980  12.0   75.9351   315.0  20000.0  16000.0   \n",
       "4  2.4454  94.7289  3407.5  0.4615  12.0  117.4263   315.0  20000.0  16000.0   \n",
       "\n",
       "  reference  \n",
       "0   mid top  \n",
       "1   mid top  \n",
       "2   mid top  \n",
       "3   mid top  \n",
       "4   mid top  "
      ]
     },
     "execution_count": 4,
     "metadata": {},
     "output_type": "execute_result"
    }
   ],
   "source": [
    "df = df['lat lon depth slip dip rake strike L W reference'.split()]\n",
    "df.head()"
   ]
  },
  {
   "cell_type": "code",
   "execution_count": 5,
   "metadata": {},
   "outputs": [
    {
     "data": {
      "text/plain": [
       "(91.26444009942327, 96.79165990057675, 1.3271612292444235, 14.568238770755572)"
      ]
     },
     "execution_count": 5,
     "metadata": {},
     "output_type": "execute_result"
    },
    {
     "data": {
      "image/png": "[encoded data removed]",
      "text/plain": [
       "<Figure size 432x288 with 1 Axes>"
      ]
     },
     "metadata": {},
     "output_type": "display_data"
    }
   ],
   "source": [
    "plt.scatter(df['lon'], df['lat'], c=df['dip'], s=10, cmap=plt.cm.jet, alpha=0.2)\n",
    "plt.axis('equal')"
   ]
  },
  {
   "cell_type": "code",
   "execution_count": 12,
   "metadata": {},
   "outputs": [
    {
     "data": {
      "text/html": [
       "<div>\n",
       "<style scoped>\n",
       "    .dataframe tbody tr th:only-of-type {\n",
       "        vertical-align: middle;\n",
       "    }\n",
       "\n",
       "    .dataframe tbody tr th {\n",
       "        vertical-align: top;\n",
       "    }\n",
       "\n",
       "    .dataframe thead th {\n",
       "        text-align: right;\n",
       "    }\n",
       "</style>\n",
       "<table border=\"1\" class=\"dataframe\">\n",
       "  <thead>\n",
       "    <tr style=\"text-align: right;\">\n",
       "      <th></th>\n",
       "      <th>lat</th>\n",
       "      <th>lon</th>\n",
       "      <th>depth</th>\n",
       "      <th>slip</th>\n",
       "      <th>dip</th>\n",
       "      <th>rake</th>\n",
       "      <th>strike</th>\n",
       "      <th>L</th>\n",
       "      <th>W</th>\n",
       "      <th>reference</th>\n",
       "    </tr>\n",
       "  </thead>\n",
       "  <tbody>\n",
       "    <tr>\n",
       "      <th>0</th>\n",
       "      <td>1.9363</td>\n",
       "      <td>95.2389</td>\n",
       "      <td>3407.5</td>\n",
       "      <td>1.6727</td>\n",
       "      <td>12.0</td>\n",
       "      <td>66.9309</td>\n",
       "      <td>315.0</td>\n",
       "      <td>20000.0</td>\n",
       "      <td>16000.0</td>\n",
       "      <td>mid top</td>\n",
       "    </tr>\n",
       "    <tr>\n",
       "      <th>1</th>\n",
       "      <td>2.0636</td>\n",
       "      <td>95.1114</td>\n",
       "      <td>3407.5</td>\n",
       "      <td>1.9116</td>\n",
       "      <td>12.0</td>\n",
       "      <td>66.5734</td>\n",
       "      <td>315.0</td>\n",
       "      <td>20000.0</td>\n",
       "      <td>16000.0</td>\n",
       "      <td>mid top</td>\n",
       "    </tr>\n",
       "    <tr>\n",
       "      <th>2</th>\n",
       "      <td>2.1908</td>\n",
       "      <td>94.9839</td>\n",
       "      <td>3407.5</td>\n",
       "      <td>0.8661</td>\n",
       "      <td>12.0</td>\n",
       "      <td>70.9693</td>\n",
       "      <td>315.0</td>\n",
       "      <td>20000.0</td>\n",
       "      <td>16000.0</td>\n",
       "      <td>mid top</td>\n",
       "    </tr>\n",
       "    <tr>\n",
       "      <th>3</th>\n",
       "      <td>2.3181</td>\n",
       "      <td>94.8564</td>\n",
       "      <td>3407.5</td>\n",
       "      <td>0.0980</td>\n",
       "      <td>12.0</td>\n",
       "      <td>75.9351</td>\n",
       "      <td>315.0</td>\n",
       "      <td>20000.0</td>\n",
       "      <td>16000.0</td>\n",
       "      <td>mid top</td>\n",
       "    </tr>\n",
       "    <tr>\n",
       "      <th>4</th>\n",
       "      <td>2.4454</td>\n",
       "      <td>94.7289</td>\n",
       "      <td>3407.5</td>\n",
       "      <td>0.4615</td>\n",
       "      <td>12.0</td>\n",
       "      <td>117.4263</td>\n",
       "      <td>315.0</td>\n",
       "      <td>20000.0</td>\n",
       "      <td>16000.0</td>\n",
       "      <td>mid top</td>\n",
       "    </tr>\n",
       "  </tbody>\n",
       "</table>\n",
       "</div>"
      ],
      "text/plain": [
       "      lat      lon   depth    slip   dip      rake  strike        L        W  \\\n",
       "0  1.9363  95.2389  3407.5  1.6727  12.0   66.9309   315.0  20000.0  16000.0   \n",
       "1  2.0636  95.1114  3407.5  1.9116  12.0   66.5734   315.0  20000.0  16000.0   \n",
       "2  2.1908  94.9839  3407.5  0.8661  12.0   70.9693   315.0  20000.0  16000.0   \n",
       "3  2.3181  94.8564  3407.5  0.0980  12.0   75.9351   315.0  20000.0  16000.0   \n",
       "4  2.4454  94.7289  3407.5  0.4615  12.0  117.4263   315.0  20000.0  16000.0   \n",
       "\n",
       "  reference  \n",
       "0   mid top  \n",
       "1   mid top  \n",
       "2   mid top  \n",
       "3   mid top  \n",
       "4   mid top  "
      ]
     },
     "execution_count": 12,
     "metadata": {},
     "output_type": "execute_result"
    }
   ],
   "source": [
    "df.head()"
   ]
  },
  {
   "cell_type": "code",
   "execution_count": 20,
   "metadata": {},
   "outputs": [
    {
     "data": {
      "text/plain": [
       "Index([u'lat', u'lon', u'depth', u'slip', u'dip', u'rake', u'strike', u'L',\n",
       "       u'W', u'reference'],\n",
       "      dtype='object')"
      ]
     },
     "execution_count": 20,
     "metadata": {},
     "output_type": "execute_result"
    }
   ],
   "source": [
    "df.columns"
   ]
  },
  {
   "cell_type": "code",
   "execution_count": 23,
   "metadata": {},
   "outputs": [],
   "source": [
    "df.to_csv?"
   ]
  },
  {
   "cell_type": "code",
   "execution_count": 24,
   "metadata": {},
   "outputs": [],
   "source": [
    "df.to_csv('earthquake.csv',index=False)"
   ]
  },
  {
   "cell_type": "code",
   "execution_count": 7,
   "metadata": {},
   "outputs": [
    {
     "ename": "ImportError",
     "evalue": "No module named clawpack.geoclaw",
     "output_type": "error",
     "traceback": [
      "\u001b[0;31m---------------------------------------------------------------------------\u001b[0m",
      "\u001b[0;31mImportError\u001b[0m                               Traceback (most recent call last)",
      "\u001b[0;32m<ipython-input-7-d6ba3b6b1a55>\u001b[0m in \u001b[0;36m<module>\u001b[0;34m()\u001b[0m\n\u001b[0;32m----> 1\u001b[0;31m \u001b[0;32mfrom\u001b[0m \u001b[0mclawpack\u001b[0m\u001b[0;34m.\u001b[0m\u001b[0mgeoclaw\u001b[0m \u001b[0;32mimport\u001b[0m \u001b[0mdtopotools\u001b[0m\u001b[0;34m\u001b[0m\u001b[0m\n\u001b[0m",
      "\u001b[0;31mImportError\u001b[0m: No module named clawpack.geoclaw"
     ]
    }
   ],
   "source": [
    "from clawpack.geoclaw import dtopotools"
   ]
  },
  {
   "cell_type": "code",
   "execution_count": 8,
   "metadata": {},
   "outputs": [
    {
     "ename": "NameError",
     "evalue": "name 'dtopotools' is not defined",
     "output_type": "error",
     "traceback": [
      "\u001b[0;31m---------------------------------------------------------------------------\u001b[0m",
      "\u001b[0;31mNameError\u001b[0m                                 Traceback (most recent call last)",
      "\u001b[0;32m<ipython-input-8-6b334308bf97>\u001b[0m in \u001b[0;36m<module>\u001b[0;34m()\u001b[0m\n\u001b[0;32m----> 1\u001b[0;31m \u001b[0mfault\u001b[0m \u001b[0;34m=\u001b[0m \u001b[0mdtopotools\u001b[0m\u001b[0;34m.\u001b[0m\u001b[0mFault\u001b[0m\u001b[0;34m(\u001b[0m\u001b[0;34m)\u001b[0m\u001b[0;34m\u001b[0m\u001b[0m\n\u001b[0m\u001b[1;32m      2\u001b[0m \u001b[0mfault\u001b[0m\u001b[0;34m.\u001b[0m\u001b[0msubfaults\u001b[0m \u001b[0;34m=\u001b[0m \u001b[0;34m[\u001b[0m\u001b[0;34m]\u001b[0m\u001b[0;34m\u001b[0m\u001b[0m\n\u001b[1;32m      3\u001b[0m \u001b[0mdf\u001b[0m\u001b[0;34m.\u001b[0m\u001b[0mloc\u001b[0m\u001b[0;34m[\u001b[0m\u001b[0;36m0\u001b[0m\u001b[0;34m,\u001b[0m\u001b[0;34m'lat'\u001b[0m\u001b[0;34m]\u001b[0m\u001b[0;34m\u001b[0m\u001b[0m\n\u001b[1;32m      4\u001b[0m \u001b[0;34m\u001b[0m\u001b[0m\n\u001b[1;32m      5\u001b[0m \u001b[0;32mfor\u001b[0m \u001b[0mindex\u001b[0m\u001b[0;34m,\u001b[0m \u001b[0mrow\u001b[0m \u001b[0;32min\u001b[0m \u001b[0mdf\u001b[0m\u001b[0;34m.\u001b[0m\u001b[0miterrows\u001b[0m\u001b[0;34m(\u001b[0m\u001b[0;34m)\u001b[0m\u001b[0;34m:\u001b[0m\u001b[0;34m\u001b[0m\u001b[0m\n",
      "\u001b[0;31mNameError\u001b[0m: name 'dtopotools' is not defined"
     ]
    }
   ],
   "source": [
    "fault = dtopotools.Fault()\n",
    "fault.subfaults = []\n",
    "df.loc[0,'lat']\n",
    "\n",
    "for index, row in df.iterrows():\n",
    "#     row = df.loc[0]\n",
    "    usgs_subfault = dtopotools.SubFault()\n",
    "    usgs_subfault.latitude = row['lat']\n",
    "    usgs_subfault.longitude = row['lon']\n",
    "    usgs_subfault.depth = row['depth']\n",
    "    usgs_subfault.slip = row['slip']\n",
    "    usgs_subfault.strike = row['strike']\n",
    "    usgs_subfault.dip = row['dip']\n",
    "    usgs_subfault.rake = row['rake']\n",
    "    usgs_subfault.length = row['L']\n",
    "    usgs_subfault.width = row['W']\n",
    "    usgs_subfault.coordinate_specification = 'centroid'\n",
    "    fault.subfaults.append(usgs_subfault)"
   ]
  },
  {
   "cell_type": "code",
   "execution_count": 9,
   "metadata": {},
   "outputs": [
    {
     "ename": "NameError",
     "evalue": "name 'fault' is not defined",
     "output_type": "error",
     "traceback": [
      "\u001b[0;31m---------------------------------------------------------------------------\u001b[0m",
      "\u001b[0;31mNameError\u001b[0m                                 Traceback (most recent call last)",
      "\u001b[0;32m<ipython-input-9-fd9b2e902ad7>\u001b[0m in \u001b[0;36m<module>\u001b[0;34m()\u001b[0m\n\u001b[0;32m----> 1\u001b[0;31m \u001b[0mfault\u001b[0m\u001b[0;34m.\u001b[0m\u001b[0mMw\u001b[0m\u001b[0;34m(\u001b[0m\u001b[0;34m)\u001b[0m\u001b[0;34m\u001b[0m\u001b[0m\n\u001b[0m",
      "\u001b[0;31mNameError\u001b[0m: name 'fault' is not defined"
     ]
    }
   ],
   "source": [
    "fault.Mw()"
   ]
  },
  {
   "cell_type": "code",
   "execution_count": null,
   "metadata": {},
   "outputs": [],
   "source": []
  },
  {
   "cell_type": "code",
   "execution_count": null,
   "metadata": {},
   "outputs": [],
   "source": []
  }
 ],
 "metadata": {
  "kernelspec": {
   "display_name": "Python 2",
   "language": "python",
   "name": "python2"
  },
  "language_info": {
   "codemirror_mode": {
    "name": "ipython",
    "version": 2
   },
   "file_extension": ".py",
   "mimetype": "text/x-python",
   "name": "python",
   "nbconvert_exporter": "python",
   "pygments_lexer": "ipython2",
   "version": "2.7.12"
  }
 },
 "nbformat": 4,
 "nbformat_minor": 2
}

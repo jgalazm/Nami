{
 "cells": [
  {
   "cell_type": "code",
   "execution_count": 1,
   "metadata": {
    "collapsed": true
   },
   "outputs": [],
   "source": [
    "import numpy as np\n",
    "import matplotlib.pyplot as plt\n",
    "%matplotlib inline"
   ]
  },
  {
   "cell_type": "code",
   "execution_count": 2,
   "metadata": {
    "collapsed": true
   },
   "outputs": [],
   "source": [
    "import pandas as pd"
   ]
  },
  {
   "cell_type": "code",
   "execution_count": 3,
   "metadata": {
    "collapsed": true
   },
   "outputs": [],
   "source": [
    "df = pd.read_csv('ammo.txt', delim_whitespace=True, skiprows=24,comment='%',names='lat lon x y depth slip rake trup'.split())\n",
    "\n",
    "df['L'] = 20e3\n",
    "df['W'] = 16e3\n",
    "df['reference'] = 'mid top'\n",
    "df['depth'] *= 1000\n",
    "\n",
    "df.loc[:210, 'dip'] = 12\n",
    "df.loc[:210, 'strike'] = 315\n",
    "\n",
    "df.loc[210:(210+408),'dip'] = 15\n",
    "df.loc[210:(210+408),'strike'] = 342\n",
    "\n",
    "df.loc[(210+408):,'dip'] = 17.5\n",
    "df.loc[(210+408):,'strike'] = 5"
   ]
  },
  {
   "cell_type": "code",
   "execution_count": 4,
   "metadata": {},
   "outputs": [
    {
     "data": {
      "text/html": [
       "<div>\n",
       "<style>\n",
       "    .dataframe thead tr:only-child th {\n",
       "        text-align: right;\n",
       "    }\n",
       "\n",
       "    .dataframe thead th {\n",
       "        text-align: left;\n",
       "    }\n",
       "\n",
       "    .dataframe tbody tr th {\n",
       "        vertical-align: top;\n",
       "    }\n",
       "</style>\n",
       "<table border=\"1\" class=\"dataframe\">\n",
       "  <thead>\n",
       "    <tr style=\"text-align: right;\">\n",
       "      <th></th>\n",
       "      <th>lat</th>\n",
       "      <th>lon</th>\n",
       "      <th>depth</th>\n",
       "      <th>slip</th>\n",
       "      <th>dip</th>\n",
       "      <th>rake</th>\n",
       "      <th>strike</th>\n",
       "      <th>L</th>\n",
       "      <th>W</th>\n",
       "      <th>reference</th>\n",
       "    </tr>\n",
       "  </thead>\n",
       "  <tbody>\n",
       "    <tr>\n",
       "      <th>0</th>\n",
       "      <td>1.9363</td>\n",
       "      <td>95.2389</td>\n",
       "      <td>3407.5</td>\n",
       "      <td>1.6727</td>\n",
       "      <td>12.0</td>\n",
       "      <td>66.9309</td>\n",
       "      <td>315.0</td>\n",
       "      <td>20000.0</td>\n",
       "      <td>16000.0</td>\n",
       "      <td>mid top</td>\n",
       "    </tr>\n",
       "    <tr>\n",
       "      <th>1</th>\n",
       "      <td>2.0636</td>\n",
       "      <td>95.1114</td>\n",
       "      <td>3407.5</td>\n",
       "      <td>1.9116</td>\n",
       "      <td>12.0</td>\n",
       "      <td>66.5734</td>\n",
       "      <td>315.0</td>\n",
       "      <td>20000.0</td>\n",
       "      <td>16000.0</td>\n",
       "      <td>mid top</td>\n",
       "    </tr>\n",
       "    <tr>\n",
       "      <th>2</th>\n",
       "      <td>2.1908</td>\n",
       "      <td>94.9839</td>\n",
       "      <td>3407.5</td>\n",
       "      <td>0.8661</td>\n",
       "      <td>12.0</td>\n",
       "      <td>70.9693</td>\n",
       "      <td>315.0</td>\n",
       "      <td>20000.0</td>\n",
       "      <td>16000.0</td>\n",
       "      <td>mid top</td>\n",
       "    </tr>\n",
       "    <tr>\n",
       "      <th>3</th>\n",
       "      <td>2.3181</td>\n",
       "      <td>94.8564</td>\n",
       "      <td>3407.5</td>\n",
       "      <td>0.0980</td>\n",
       "      <td>12.0</td>\n",
       "      <td>75.9351</td>\n",
       "      <td>315.0</td>\n",
       "      <td>20000.0</td>\n",
       "      <td>16000.0</td>\n",
       "      <td>mid top</td>\n",
       "    </tr>\n",
       "    <tr>\n",
       "      <th>4</th>\n",
       "      <td>2.4454</td>\n",
       "      <td>94.7289</td>\n",
       "      <td>3407.5</td>\n",
       "      <td>0.4615</td>\n",
       "      <td>12.0</td>\n",
       "      <td>117.4263</td>\n",
       "      <td>315.0</td>\n",
       "      <td>20000.0</td>\n",
       "      <td>16000.0</td>\n",
       "      <td>mid top</td>\n",
       "    </tr>\n",
       "  </tbody>\n",
       "</table>\n",
       "</div>"
      ],
      "text/plain": [
       "      lat      lon   depth    slip   dip      rake  strike        L        W  \\\n",
       "0  1.9363  95.2389  3407.5  1.6727  12.0   66.9309   315.0  20000.0  16000.0   \n",
       "1  2.0636  95.1114  3407.5  1.9116  12.0   66.5734   315.0  20000.0  16000.0   \n",
       "2  2.1908  94.9839  3407.5  0.8661  12.0   70.9693   315.0  20000.0  16000.0   \n",
       "3  2.3181  94.8564  3407.5  0.0980  12.0   75.9351   315.0  20000.0  16000.0   \n",
       "4  2.4454  94.7289  3407.5  0.4615  12.0  117.4263   315.0  20000.0  16000.0   \n",
       "\n",
       "  reference  \n",
       "0   mid top  \n",
       "1   mid top  \n",
       "2   mid top  \n",
       "3   mid top  \n",
       "4   mid top  "
      ]
     },
     "execution_count": 4,
     "metadata": {},
     "output_type": "execute_result"
    }
   ],
   "source": [
    "df = df['lat lon depth slip dip rake strike L W reference'.split()]\n",
    "df.head()"
   ]
  },
  {
   "cell_type": "code",
   "execution_count": 5,
   "metadata": {},
   "outputs": [
    {
     "data": {
      "text/plain": [
       "(91.264440099423268,\n",
       " 96.791659900576747,\n",
       " 1.3271612292444235,\n",
       " 14.568238770755572)"
      ]
     },
     "execution_count": 5,
     "metadata": {},
     "output_type": "execute_result"
    },
    {
     "data": {
      "image/png": "[encoded data removed]",
      "text/plain": [
       "<matplotlib.figure.Figure at 0x7f529c0abe48>"
      ]
     },
     "metadata": {},
     "output_type": "display_data"
    }
   ],
   "source": [
    "plt.scatter(df['lon'], df['lat'], c=df['dip'], s=10, cmap=plt.cm.jet, alpha=0.2)\n",
    "plt.axis('equal')"
   ]
  },
  {
   "cell_type": "code",
   "execution_count": 6,
   "metadata": {
    "collapsed": true
   },
   "outputs": [],
   "source": [
    "df.to_csv('earthquake.csv')"
   ]
  },
  {
   "cell_type": "code",
   "execution_count": 7,
   "metadata": {
    "collapsed": true
   },
   "outputs": [],
   "source": [
    "from clawpack.geoclaw import dtopotools"
   ]
  },
  {
   "cell_type": "code",
   "execution_count": 8,
   "metadata": {},
   "outputs": [],
   "source": [
    "fault = dtopotools.Fault()\n",
    "fault.subfaults = []\n",
    "df.loc[0,'lat']\n",
    "\n",
    "for index, row in df.iterrows():\n",
    "#     row = df.loc[0]\n",
    "    usgs_subfault = dtopotools.SubFault()\n",
    "    usgs_subfault.latitude = row['lat']\n",
    "    usgs_subfault.longitude = row['lon']\n",
    "    usgs_subfault.depth = row['depth']\n",
    "    usgs_subfault.slip = row['slip']\n",
    "    usgs_subfault.strike = row['strike']\n",
    "    usgs_subfault.dip = row['dip']\n",
    "    usgs_subfault.rake = row['rake']\n",
    "    usgs_subfault.length = row['L']\n",
    "    usgs_subfault.width = row['W']\n",
    "    usgs_subfault.coordinate_specification = 'centroid'\n",
    "    fault.subfaults.append(usgs_subfault)"
   ]
  },
  {
   "cell_type": "code",
   "execution_count": 9,
   "metadata": {},
   "outputs": [
    {
     "data": {
      "text/plain": [
       "9.0275757842378699"
      ]
     },
     "execution_count": 9,
     "metadata": {},
     "output_type": "execute_result"
    }
   ],
   "source": [
    "fault.Mw()"
   ]
  }
 ],
 "metadata": {
  "kernelspec": {
   "display_name": "Python 3",
   "language": "python",
   "name": "python3"
  },
  "language_info": {
   "codemirror_mode": {
    "name": "ipython",
    "version": 3
   },
   "file_extension": ".py",
   "mimetype": "text/x-python",
   "name": "python",
   "nbconvert_exporter": "python",
   "pygments_lexer": "ipython3",
   "version": "3.6.2"
  }
 },
 "nbformat": 4,
 "nbformat_minor": 2
}

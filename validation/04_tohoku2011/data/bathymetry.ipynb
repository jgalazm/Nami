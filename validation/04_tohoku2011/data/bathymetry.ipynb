{
 "cells": [
  {
   "cell_type": "code",
   "execution_count": 1,
   "metadata": {},
   "outputs": [],
   "source": [
    "from netCDF4 import Dataset\n",
    "\n",
    "import numpy as np\n",
    "import matplotlib.pyplot as plt\n",
    "%matplotlib inline"
   ]
  },
  {
   "cell_type": "code",
   "execution_count": 2,
   "metadata": {},
   "outputs": [],
   "source": [
    "fileName = '../../ETOPO1_Ice_c_gmt4.grd'\n",
    "\n",
    "fh = Dataset(fileName, mode='r')\n",
    "\n",
    "fh.variables.keys()\n",
    "\n",
    "x = fh.variables['x']\n",
    "y = fh.variables['y']\n",
    "z = fh.variables['z']"
   ]
  },
  {
   "cell_type": "code",
   "execution_count": 3,
   "metadata": {},
   "outputs": [
    {
     "data": {
      "text/plain": [
       "<class 'netCDF4._netCDF4.Variable'>\n",
       "float64 x(x)\n",
       "    long_name: Longitude\n",
       "    actual_range: [-180.  180.]\n",
       "    units: degrees_east\n",
       "unlimited dimensions: \n",
       "current shape = (21600,)\n",
       "filling off"
      ]
     },
     "execution_count": 3,
     "metadata": {},
     "output_type": "execute_result"
    }
   ],
   "source": [
    "x"
   ]
  },
  {
   "cell_type": "code",
   "execution_count": 4,
   "metadata": {},
   "outputs": [
    {
     "data": {
      "text/plain": [
       "<class 'netCDF4._netCDF4.Variable'>\n",
       "float64 y(y)\n",
       "    long_name: Latitude\n",
       "    actual_range: [-90.  90.]\n",
       "    units: degrees_north\n",
       "unlimited dimensions: \n",
       "current shape = (10800,)\n",
       "filling off"
      ]
     },
     "execution_count": 4,
     "metadata": {},
     "output_type": "execute_result"
    }
   ],
   "source": [
    "y"
   ]
  },
  {
   "cell_type": "code",
   "execution_count": 5,
   "metadata": {},
   "outputs": [
    {
     "data": {
      "text/plain": [
       "<class 'netCDF4._netCDF4.Variable'>\n",
       "int32 z(y, x)\n",
       "    long_name: z\n",
       "    _FillValue: -2147483648\n",
       "    actual_range: [-10803.   8333.]\n",
       "unlimited dimensions: \n",
       "current shape = (10800, 21600)\n",
       "filling off"
      ]
     },
     "execution_count": 5,
     "metadata": {},
     "output_type": "execute_result"
    }
   ],
   "source": [
    "z"
   ]
  },
  {
   "cell_type": "code",
   "execution_count": 6,
   "metadata": {},
   "outputs": [
    {
     "name": "stdout",
     "output_type": "stream",
     "text": [
      "dx=0.01666666666667993, dy=0.01666666666666572\n"
     ]
    }
   ],
   "source": [
    "dx = np.diff(x[:])[0]\n",
    "dy = np.diff(y[:])[0]\n",
    "print('dx={}, dy={}'.format(dx,dy))"
   ]
  },
  {
   "cell_type": "markdown",
   "metadata": {},
   "source": [
    "I want the rectangle $ (lon,lat) \\in [-240,-120] \\times [-60, 60] $, but can only use  $lon \\in[-180,180]$, hence have to use the joined set: $$lon \\in [120,180] \\cup [-180,-120]$$"
   ]
  },
  {
   "cell_type": "markdown",
   "metadata": {},
   "source": [
    "# Cut in x direction"
   ]
  },
  {
   "cell_type": "markdown",
   "metadata": {},
   "source": [
    "It consists in two segments for $lon \\in [0,180]$ and $lon \\in [-180,0]$ but translated to $[180,360]$"
   ]
  },
  {
   "cell_type": "markdown",
   "metadata": {},
   "source": [
    "## First segment"
   ]
  },
  {
   "cell_type": "code",
   "execution_count": 7,
   "metadata": {},
   "outputs": [
    {
     "name": "stdout",
     "output_type": "stream",
     "text": [
      "18900 18899\n",
      "21600 21599\n"
     ]
    }
   ],
   "source": [
    "x0 = 135\n",
    "x1 = 180\n",
    "i0 = int((x0+180)*60)\n",
    "i1 = int((x1+180)*60)\n",
    "print(i0,np.argmin(np.abs(x0-x[:])))\n",
    "print(i1,np.argmin(np.abs(x1-x[:])))"
   ]
  },
  {
   "cell_type": "code",
   "execution_count": 8,
   "metadata": {},
   "outputs": [
    {
     "data": {
      "text/plain": [
       "(-179.99166666666667, 179.99166666666667)"
      ]
     },
     "execution_count": 8,
     "metadata": {},
     "output_type": "execute_result"
    }
   ],
   "source": [
    "x[:].min(),x[:].max()"
   ]
  },
  {
   "cell_type": "markdown",
   "metadata": {},
   "source": [
    "## Second segment"
   ]
  },
  {
   "cell_type": "code",
   "execution_count": 9,
   "metadata": {},
   "outputs": [
    {
     "name": "stdout",
     "output_type": "stream",
     "text": [
      "6600 6600\n",
      "290.0083333333333\n"
     ]
    }
   ],
   "source": [
    "x2 = 290-360\n",
    "i2 = int((x2+180)*60)\n",
    "print(i2,np.argmin(np.abs(x2-x[:])))\n",
    "print(x[i2]+360)"
   ]
  },
  {
   "cell_type": "markdown",
   "metadata": {},
   "source": [
    "Cut in y direction"
   ]
  },
  {
   "cell_type": "code",
   "execution_count": 10,
   "metadata": {},
   "outputs": [
    {
     "name": "stdout",
     "output_type": "stream",
     "text": [
      "4200 4199\n",
      "8400 8399\n"
     ]
    }
   ],
   "source": [
    "y0 = -20\n",
    "y1 = 50\n",
    "j0 = int((y0+90)*60)\n",
    "j1 = int((y1+90)*60)\n",
    "print(j0, np.argmin(np.abs(y0-y[:])))\n",
    "print(j1, np.argmin(np.abs(y1-y[:])))"
   ]
  },
  {
   "cell_type": "markdown",
   "metadata": {},
   "source": [
    "Select bathymetry from range and skip some values"
   ]
  },
  {
   "cell_type": "code",
   "execution_count": 14,
   "metadata": {},
   "outputs": [],
   "source": [
    "zfirst = z[j0:(j1+1),i0:(i1+1)]\n",
    "zsecond = z[j0:(j1+1),:(i2+1)]\n",
    "zfinal = np.hstack([zfirst,zsecond])[::10,::10]\n",
    "# zfinal = z[j0:(j1+1),i0:(i1+1)][::2,::2]"
   ]
  },
  {
   "cell_type": "code",
   "execution_count": 15,
   "metadata": {},
   "outputs": [
    {
     "data": {
      "text/plain": [
       "(421, 931)"
      ]
     },
     "execution_count": 15,
     "metadata": {},
     "output_type": "execute_result"
    }
   ],
   "source": [
    "zfinal.shape"
   ]
  },
  {
   "cell_type": "code",
   "execution_count": 16,
   "metadata": {},
   "outputs": [
    {
     "data": {
      "text/plain": [
       "1826604"
      ]
     },
     "execution_count": 16,
     "metadata": {},
     "output_type": "execute_result"
    }
   ],
   "source": [
    "1404*1301"
   ]
  },
  {
   "cell_type": "code",
   "execution_count": 17,
   "metadata": {
    "scrolled": true
   },
   "outputs": [
    {
     "data": {
      "text/plain": [
       "(0.0, 94.0, 0.0, 43.0)"
      ]
     },
     "execution_count": 17,
     "metadata": {},
     "output_type": "execute_result"
    },
    {
     "data": {
      "image/png": "[encoded data removed]",
      "text/plain": [
       "<Figure size 432x288 with 2 Axes>"
      ]
     },
     "metadata": {},
     "output_type": "display_data"
    }
   ],
   "source": [
    "plt.pcolormesh(zfinal[::10,::10],cmap=plt.cm.gist_earth)\n",
    "plt.colorbar()\n",
    "plt.contour(zfinal[::10,::10],[0.0])\n",
    "plt.axis('equal')"
   ]
  },
  {
   "cell_type": "markdown",
   "metadata": {
    "collapsed": true
   },
   "source": [
    "np.savetxt('bathymetry',-zfinal[::1,::1])"
   ]
  },
  {
   "cell_type": "code",
   "execution_count": 20,
   "metadata": {},
   "outputs": [],
   "source": [
    "arr = np.hstack([zfinal.shape[0],zfinal.shape[1],(-zfinal).ravel()])"
   ]
  },
  {
   "cell_type": "code",
   "execution_count": 23,
   "metadata": {},
   "outputs": [],
   "source": [
    "arr.astype('float64').tofile('bathymetry')\n"
   ]
  },
  {
   "cell_type": "markdown",
   "metadata": {},
   "source": [
    "# Easywave"
   ]
  },
  {
   "cell_type": "code",
   "execution_count": null,
   "metadata": {
    "collapsed": true
   },
   "outputs": [],
   "source": [
    "def writeGRD(x,y,z,name):\n",
    "    ncols = z.shape[1]\n",
    "    nrows = z.shape[0]\n",
    "    xll  = x.min()\n",
    "    xur  = x.max()\n",
    "    yll = y.min()\n",
    "    yur = y.max()\n",
    "    f = open(name,'w')\n",
    "    f.write('DSAA\\n')\n",
    "    f.write('%i %i\\n'%(ncols, nrows))\n",
    "    f.write('%.3f %.3f\\n'%(xll,xur))\n",
    "    f.write('%.3f %.3f\\n'%(yll,yur))\n",
    "\n",
    "\n",
    "    f.write('%.3f %.3f\\n'%(z.min(),z.max()))\n",
    "\n",
    "    s = [' '.join(['%.5f '%num for num in z[-i,:]]) for i in range(z.shape[0])]\n",
    "\n",
    "    for ss in s:\n",
    "        f.write('%s\\n'%ss)\n",
    "    f.close()\n",
    "\n",
    "writeGRD(x[i0:(i1+1)],y[j0:(j1+1)],np.flipud(zfinal),'bathymetry.grd')"
   ]
  },
  {
   "cell_type": "markdown",
   "metadata": {},
   "source": [
    "# Geoclaw"
   ]
  },
  {
   "cell_type": "code",
   "execution_count": null,
   "metadata": {
    "collapsed": true
   },
   "outputs": [],
   "source": [
    "z = zfinal"
   ]
  },
  {
   "cell_type": "code",
   "execution_count": null,
   "metadata": {
    "collapsed": true
   },
   "outputs": [],
   "source": [
    "1/60"
   ]
  },
  {
   "cell_type": "code",
   "execution_count": null,
   "metadata": {
    "collapsed": true
   },
   "outputs": [],
   "source": [
    "np.diff(x)"
   ]
  },
  {
   "cell_type": "code",
   "execution_count": null,
   "metadata": {
    "collapsed": true
   },
   "outputs": [],
   "source": [
    "ncols = z.shape[1]\n",
    "nrows = z.shape[0]\n",
    "xll = 135.0\n",
    "yll = -10.0\n",
    "cell = 1/60*2\n",
    "xur = xll + (ncols-1)*cell\n",
    "yur = yll + (nrows-1)*cell\n",
    "\n",
    "header = '''{mx} \\t mx\n",
    "{my} \\t my\n",
    "{xllcorner} \\t xllcorner\n",
    "{yllcorner} \\t yllcorner\n",
    "{cellsize} \\t cellsize\n",
    "{nodatavalue} \\t nodataval\n",
    "'''.format(**{\n",
    "    'mx':ncols,\n",
    "    'my':nrows,\n",
    "    'xllcorner':xll,\n",
    "    'yllcorner':yll,\n",
    "    'cellsize':cell,\n",
    "    'nodatavalue':99999\n",
    "})\n",
    "print(header)"
   ]
  },
  {
   "cell_type": "code",
   "execution_count": null,
   "metadata": {
    "collapsed": true
   },
   "outputs": [],
   "source": [
    "outstr = header + ' '.join(map(lambda zi: str(zi)+'\\n', np.flipud(zfinal).flatten()))\n",
    "\n",
    "f = open('bathymetry.tt2','w')\n",
    "f.write(outstr)\n",
    "f.close()"
   ]
  }
 ],
 "metadata": {
  "kernelspec": {
   "display_name": "Python 3",
   "language": "python",
   "name": "python3"
  },
  "language_info": {
   "codemirror_mode": {
    "name": "ipython",
    "version": 3
   },
   "file_extension": ".py",
   "mimetype": "text/x-python",
   "name": "python",
   "nbconvert_exporter": "python",
   "pygments_lexer": "ipython3",
   "version": "3.6.5"
  }
 },
 "nbformat": 4,
 "nbformat_minor": 2
}

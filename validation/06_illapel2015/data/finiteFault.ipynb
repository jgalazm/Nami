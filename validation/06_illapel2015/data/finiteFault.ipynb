{
 "cells": [
  {
   "cell_type": "code",
   "execution_count": 1,
   "metadata": {
    "collapsed": true
   },
   "outputs": [],
   "source": [
    "import numpy as np\n",
    "import matplotlib.pyplot as plt \n",
    "%matplotlib inline"
   ]
  },
  {
   "cell_type": "code",
   "execution_count": 2,
   "metadata": {
    "collapsed": true
   },
   "outputs": [],
   "source": [
    "import pandas as pd"
   ]
  },
  {
   "cell_type": "code",
   "execution_count": 3,
   "metadata": {},
   "outputs": [
    {
     "name": "stdout",
     "output_type": "stream",
     "text": [
      "#Total number of fault_segments=     1\r\n",
      "#Fault_segment =   1 nx(Along-strike)=  25 Dx= 12.00km ny(downdip)=  18 Dy=  8.80km\r\n",
      "#Boundary of Fault_segment     1. EQ in cell 9,10. Lon: -71.6728   Lat: -31.5952\r\n",
      "#Lon.  Lat.  Depth\r\n",
      "      -72.60630      -32.42690        2.06900\r\n",
      "      -72.27690      -29.75720        2.06900\r\n",
      "      -70.72070      -29.89650       53.06600\r\n",
      "      -71.05010      -32.56620       53.06600\r\n",
      "      -72.60630      -32.42690        2.06900\r\n",
      "#Lat. Lon. depth slip rake strike dip t_rup t_ris t_fal mo\r\n",
      "     -32.426900     -72.606300       2.069000      58.115470      71.387770       6.000000      19.000000      82.800000       3.200000       1.600000   5.832598e+24\r\n",
      "     -32.319500     -72.593100       2.069000      86.756260      92.165860       6.000000      19.000000      61.600000      11.200000       6.400000   8.707055e+24\r\n"
     ]
    }
   ],
   "source": [
    "!head usgs_fault -n 12"
   ]
  },
  {
   "cell_type": "code",
   "execution_count": 11,
   "metadata": {},
   "outputs": [],
   "source": [
    "df = pd.read_csv('usgs.txt', delim_whitespace=True, comment='#', skiprows=9, names='Lat. Lon. depth slip rake strike dip t_rup t_ris t_fal mo'.split(' '))"
   ]
  },
  {
   "cell_type": "code",
   "execution_count": 12,
   "metadata": {},
   "outputs": [
    {
     "data": {
      "text/html": [
       "<div>\n",
       "<style>\n",
       "    .dataframe thead tr:only-child th {\n",
       "        text-align: right;\n",
       "    }\n",
       "\n",
       "    .dataframe thead th {\n",
       "        text-align: left;\n",
       "    }\n",
       "\n",
       "    .dataframe tbody tr th {\n",
       "        vertical-align: top;\n",
       "    }\n",
       "</style>\n",
       "<table border=\"1\" class=\"dataframe\">\n",
       "  <thead>\n",
       "    <tr style=\"text-align: right;\">\n",
       "      <th></th>\n",
       "      <th>Lat.</th>\n",
       "      <th>Lon.</th>\n",
       "      <th>depth</th>\n",
       "      <th>slip</th>\n",
       "      <th>rake</th>\n",
       "      <th>strike</th>\n",
       "      <th>dip</th>\n",
       "      <th>t_rup</th>\n",
       "      <th>t_ris</th>\n",
       "      <th>t_fal</th>\n",
       "      <th>mo</th>\n",
       "    </tr>\n",
       "  </thead>\n",
       "  <tbody>\n",
       "    <tr>\n",
       "      <th>0</th>\n",
       "      <td>-32.4269</td>\n",
       "      <td>-72.6063</td>\n",
       "      <td>2.069</td>\n",
       "      <td>58.11547</td>\n",
       "      <td>71.38777</td>\n",
       "      <td>6.0</td>\n",
       "      <td>19.0</td>\n",
       "      <td>82.8</td>\n",
       "      <td>3.2</td>\n",
       "      <td>1.6</td>\n",
       "      <td>5.832598e+24</td>\n",
       "    </tr>\n",
       "    <tr>\n",
       "      <th>1</th>\n",
       "      <td>-32.3195</td>\n",
       "      <td>-72.5931</td>\n",
       "      <td>2.069</td>\n",
       "      <td>86.75626</td>\n",
       "      <td>92.16586</td>\n",
       "      <td>6.0</td>\n",
       "      <td>19.0</td>\n",
       "      <td>61.6</td>\n",
       "      <td>11.2</td>\n",
       "      <td>6.4</td>\n",
       "      <td>8.707055e+24</td>\n",
       "    </tr>\n",
       "    <tr>\n",
       "      <th>2</th>\n",
       "      <td>-32.2121</td>\n",
       "      <td>-72.5798</td>\n",
       "      <td>2.069</td>\n",
       "      <td>135.00011</td>\n",
       "      <td>105.43640</td>\n",
       "      <td>6.0</td>\n",
       "      <td>19.0</td>\n",
       "      <td>42.0</td>\n",
       "      <td>1.6</td>\n",
       "      <td>1.6</td>\n",
       "      <td>1.354892e+25</td>\n",
       "    </tr>\n",
       "    <tr>\n",
       "      <th>3</th>\n",
       "      <td>-32.1047</td>\n",
       "      <td>-72.5666</td>\n",
       "      <td>2.069</td>\n",
       "      <td>193.42450</td>\n",
       "      <td>81.69747</td>\n",
       "      <td>6.0</td>\n",
       "      <td>19.0</td>\n",
       "      <td>52.4</td>\n",
       "      <td>1.6</td>\n",
       "      <td>4.8</td>\n",
       "      <td>1.941251e+25</td>\n",
       "    </tr>\n",
       "    <tr>\n",
       "      <th>4</th>\n",
       "      <td>-31.9973</td>\n",
       "      <td>-72.5533</td>\n",
       "      <td>2.069</td>\n",
       "      <td>258.40659</td>\n",
       "      <td>90.97316</td>\n",
       "      <td>6.0</td>\n",
       "      <td>19.0</td>\n",
       "      <td>50.4</td>\n",
       "      <td>6.4</td>\n",
       "      <td>1.6</td>\n",
       "      <td>2.593426e+25</td>\n",
       "    </tr>\n",
       "  </tbody>\n",
       "</table>\n",
       "</div>"
      ],
      "text/plain": [
       "      Lat.     Lon.  depth       slip       rake  strike   dip  t_rup  t_ris  \\\n",
       "0 -32.4269 -72.6063  2.069   58.11547   71.38777     6.0  19.0   82.8    3.2   \n",
       "1 -32.3195 -72.5931  2.069   86.75626   92.16586     6.0  19.0   61.6   11.2   \n",
       "2 -32.2121 -72.5798  2.069  135.00011  105.43640     6.0  19.0   42.0    1.6   \n",
       "3 -32.1047 -72.5666  2.069  193.42450   81.69747     6.0  19.0   52.4    1.6   \n",
       "4 -31.9973 -72.5533  2.069  258.40659   90.97316     6.0  19.0   50.4    6.4   \n",
       "\n",
       "   t_fal            mo  \n",
       "0    1.6  5.832598e+24  \n",
       "1    6.4  8.707055e+24  \n",
       "2    1.6  1.354892e+25  \n",
       "3    4.8  1.941251e+25  \n",
       "4    1.6  2.593426e+25  "
      ]
     },
     "execution_count": 12,
     "metadata": {},
     "output_type": "execute_result"
    }
   ],
   "source": [
    "df.head()"
   ]
  },
  {
   "cell_type": "code",
   "execution_count": 13,
   "metadata": {},
   "outputs": [
    {
     "data": {
      "text/html": [
       "<div>\n",
       "<style>\n",
       "    .dataframe thead tr:only-child th {\n",
       "        text-align: right;\n",
       "    }\n",
       "\n",
       "    .dataframe thead th {\n",
       "        text-align: left;\n",
       "    }\n",
       "\n",
       "    .dataframe tbody tr th {\n",
       "        vertical-align: top;\n",
       "    }\n",
       "</style>\n",
       "<table border=\"1\" class=\"dataframe\">\n",
       "  <thead>\n",
       "    <tr style=\"text-align: right;\">\n",
       "      <th></th>\n",
       "      <th>lat</th>\n",
       "      <th>lon</th>\n",
       "      <th>depth</th>\n",
       "      <th>slip</th>\n",
       "      <th>rake</th>\n",
       "      <th>strike</th>\n",
       "      <th>dip</th>\n",
       "      <th>t_rup</th>\n",
       "      <th>t_ris</th>\n",
       "      <th>t_fal</th>\n",
       "      <th>mo</th>\n",
       "      <th>L</th>\n",
       "      <th>W</th>\n",
       "      <th>reference</th>\n",
       "    </tr>\n",
       "  </thead>\n",
       "  <tbody>\n",
       "    <tr>\n",
       "      <th>0</th>\n",
       "      <td>-32.4269</td>\n",
       "      <td>-72.6063</td>\n",
       "      <td>2069.0</td>\n",
       "      <td>0.581155</td>\n",
       "      <td>71.38777</td>\n",
       "      <td>6.0</td>\n",
       "      <td>19.0</td>\n",
       "      <td>82.8</td>\n",
       "      <td>3.2</td>\n",
       "      <td>1.6</td>\n",
       "      <td>5.832598e+24</td>\n",
       "      <td>12000</td>\n",
       "      <td>8800</td>\n",
       "      <td>center</td>\n",
       "    </tr>\n",
       "    <tr>\n",
       "      <th>1</th>\n",
       "      <td>-32.3195</td>\n",
       "      <td>-72.5931</td>\n",
       "      <td>2069.0</td>\n",
       "      <td>0.867563</td>\n",
       "      <td>92.16586</td>\n",
       "      <td>6.0</td>\n",
       "      <td>19.0</td>\n",
       "      <td>61.6</td>\n",
       "      <td>11.2</td>\n",
       "      <td>6.4</td>\n",
       "      <td>8.707055e+24</td>\n",
       "      <td>12000</td>\n",
       "      <td>8800</td>\n",
       "      <td>center</td>\n",
       "    </tr>\n",
       "    <tr>\n",
       "      <th>2</th>\n",
       "      <td>-32.2121</td>\n",
       "      <td>-72.5798</td>\n",
       "      <td>2069.0</td>\n",
       "      <td>1.350001</td>\n",
       "      <td>105.43640</td>\n",
       "      <td>6.0</td>\n",
       "      <td>19.0</td>\n",
       "      <td>42.0</td>\n",
       "      <td>1.6</td>\n",
       "      <td>1.6</td>\n",
       "      <td>1.354892e+25</td>\n",
       "      <td>12000</td>\n",
       "      <td>8800</td>\n",
       "      <td>center</td>\n",
       "    </tr>\n",
       "    <tr>\n",
       "      <th>3</th>\n",
       "      <td>-32.1047</td>\n",
       "      <td>-72.5666</td>\n",
       "      <td>2069.0</td>\n",
       "      <td>1.934245</td>\n",
       "      <td>81.69747</td>\n",
       "      <td>6.0</td>\n",
       "      <td>19.0</td>\n",
       "      <td>52.4</td>\n",
       "      <td>1.6</td>\n",
       "      <td>4.8</td>\n",
       "      <td>1.941251e+25</td>\n",
       "      <td>12000</td>\n",
       "      <td>8800</td>\n",
       "      <td>center</td>\n",
       "    </tr>\n",
       "    <tr>\n",
       "      <th>4</th>\n",
       "      <td>-31.9973</td>\n",
       "      <td>-72.5533</td>\n",
       "      <td>2069.0</td>\n",
       "      <td>2.584066</td>\n",
       "      <td>90.97316</td>\n",
       "      <td>6.0</td>\n",
       "      <td>19.0</td>\n",
       "      <td>50.4</td>\n",
       "      <td>6.4</td>\n",
       "      <td>1.6</td>\n",
       "      <td>2.593426e+25</td>\n",
       "      <td>12000</td>\n",
       "      <td>8800</td>\n",
       "      <td>center</td>\n",
       "    </tr>\n",
       "  </tbody>\n",
       "</table>\n",
       "</div>"
      ],
      "text/plain": [
       "       lat      lon   depth      slip       rake  strike   dip  t_rup  t_ris  \\\n",
       "0 -32.4269 -72.6063  2069.0  0.581155   71.38777     6.0  19.0   82.8    3.2   \n",
       "1 -32.3195 -72.5931  2069.0  0.867563   92.16586     6.0  19.0   61.6   11.2   \n",
       "2 -32.2121 -72.5798  2069.0  1.350001  105.43640     6.0  19.0   42.0    1.6   \n",
       "3 -32.1047 -72.5666  2069.0  1.934245   81.69747     6.0  19.0   52.4    1.6   \n",
       "4 -31.9973 -72.5533  2069.0  2.584066   90.97316     6.0  19.0   50.4    6.4   \n",
       "\n",
       "   t_fal            mo      L     W reference  \n",
       "0    1.6  5.832598e+24  12000  8800    center  \n",
       "1    6.4  8.707055e+24  12000  8800    center  \n",
       "2    1.6  1.354892e+25  12000  8800    center  \n",
       "3    4.8  1.941251e+25  12000  8800    center  \n",
       "4    1.6  2.593426e+25  12000  8800    center  "
      ]
     },
     "execution_count": 13,
     "metadata": {},
     "output_type": "execute_result"
    }
   ],
   "source": [
    "df = df.rename(columns={\n",
    "    'Lat.': 'lat',\n",
    "    'Lon.': 'lon'\n",
    "})\n",
    "\n",
    "df['L'] = 12000\n",
    "df['W'] = 8800\n",
    "df['depth']*=1000\n",
    "df['reference'] = 'center'\n",
    "df['slip'] *= 0.01\n",
    "df.head()"
   ]
  },
  {
   "cell_type": "code",
   "execution_count": 14,
   "metadata": {
    "collapsed": true
   },
   "outputs": [],
   "source": [
    "df.to_csv('earthquake.csv',index=False)"
   ]
  },
  {
   "cell_type": "markdown",
   "metadata": {},
   "source": [
    "# Geoclaw"
   ]
  },
  {
   "cell_type": "code",
   "execution_count": 8,
   "metadata": {
    "collapsed": true
   },
   "outputs": [],
   "source": [
    "from clawpack.geoclaw import dtopotools"
   ]
  },
  {
   "cell_type": "code",
   "execution_count": 9,
   "metadata": {
    "collapsed": true
   },
   "outputs": [],
   "source": [
    "fault = dtopotools.Fault()\n",
    "fault.subfaults = []\n",
    "df.loc[0,'lat']\n",
    "\n",
    "for index, row in df.iterrows():\n",
    "#     row = df.loc[0]\n",
    "    usgs_subfault = dtopotools.SubFault()\n",
    "    usgs_subfault.latitude = row['lat']\n",
    "    usgs_subfault.longitude = row['lon']\n",
    "    usgs_subfault.depth = row['depth']\n",
    "    usgs_subfault.slip = row['slip']\n",
    "    usgs_subfault.strike = row['strike']\n",
    "    usgs_subfault.dip = row['dip']\n",
    "    usgs_subfault.rake = row['rake']\n",
    "    usgs_subfault.length = row['L']\n",
    "    usgs_subfault.width = row['W']\n",
    "    usgs_subfault.coordinate_specification = 'centroid'\n",
    "    fault.subfaults.append(usgs_subfault)"
   ]
  },
  {
   "cell_type": "code",
   "execution_count": 10,
   "metadata": {},
   "outputs": [
    {
     "data": {
      "text/plain": [
       "8.2678497400625535"
      ]
     },
     "execution_count": 10,
     "metadata": {},
     "output_type": "execute_result"
    }
   ],
   "source": [
    "fault.Mw()"
   ]
  },
  {
   "cell_type": "code",
   "execution_count": null,
   "metadata": {},
   "outputs": [],
   "source": [
    "x = np.linspace(139,146,360)\n",
    "y = np.linspace(35,41,361)\n",
    "# x = np.linspace(-120,-60,361)\n",
    "# y = np.linspace(-60,0,361)\n",
    "\n",
    "times = [1.]\n",
    "fault.create_dtopography(x,y,times)"
   ]
  },
  {
   "cell_type": "code",
   "execution_count": null,
   "metadata": {
    "collapsed": true
   },
   "outputs": [],
   "source": [
    "dtopo_fname='usgs.tt3'\n",
    "fault.dtopo.write(dtopo_fname, dtopo_type=3)"
   ]
  },
  {
   "cell_type": "code",
   "execution_count": null,
   "metadata": {
    "scrolled": false
   },
   "outputs": [],
   "source": [
    "import os\n",
    "plt.figure(figsize=(12,7))\n",
    "ax1 = plt.subplot(121)\n",
    "ax2 = plt.subplot(122)\n",
    "fault.plot_subfaults(axes=ax1,slip_color=True)\n",
    "ax1.set_xlim(139,146)\n",
    "ax1.set_ylim(35,41)\n",
    "ax2.set_xlim(139,146)\n",
    "ax2.set_ylim(35,41)\n",
    "fault.dtopo.plot_dZ_colors(1.,axes=ax2, cmax_dZ=5.0, dZ_interval=10)\n",
    "fname = os.path.splitext(os.path.split(dtopo_fname)[-1])[0] + '.png'\n",
    "plt.savefig(fname)\n",
    "print(\"Created \",fname)\n"
   ]
  },
  {
   "cell_type": "code",
   "execution_count": null,
   "metadata": {
    "scrolled": true
   },
   "outputs": [],
   "source": [
    "fault.dtopo.plot_dZ_colors(1.0, cmax_dZ=10.0, dZ_interval=100)\n",
    "plt.gca().set_xlim(139,146)\n",
    "plt.gca().set_ylim(35,41)"
   ]
  },
  {
   "cell_type": "markdown",
   "metadata": {},
   "source": [
    "# Easywave"
   ]
  },
  {
   "cell_type": "code",
   "execution_count": null,
   "metadata": {
    "collapsed": true
   },
   "outputs": [],
   "source": [
    "df['reference']='C'\n",
    "df['depth'] /=1000\n",
    "df['L'] /=1000\n",
    "df['W'] /=1000"
   ]
  },
  {
   "cell_type": "code",
   "execution_count": null,
   "metadata": {
    "collapsed": true
   },
   "outputs": [],
   "source": [
    "f = open('fault.flt','w')\n",
    "\n",
    "for index, row in df.iterrows():\n",
    "    rowString = '-location {lon} {lat} {depth} -refpos {reference} -strike {strike} -dip {dip} -rake {rake} -slip {slip} -size {L} {W}\\n'\n",
    "    rowString = rowString.format(**row)\n",
    "    f.write(rowString)\n",
    "\n",
    "f.close()"
   ]
  },
  {
   "cell_type": "code",
   "execution_count": null,
   "metadata": {
    "collapsed": true
   },
   "outputs": [],
   "source": []
  }
 ],
 "metadata": {
  "kernelspec": {
   "display_name": "Python 3",
   "language": "python",
   "name": "python3"
  },
  "language_info": {
   "codemirror_mode": {
    "name": "ipython",
    "version": 3
   },
   "file_extension": ".py",
   "mimetype": "text/x-python",
   "name": "python",
   "nbconvert_exporter": "python",
   "pygments_lexer": "ipython3",
   "version": "3.6.2"
  }
 },
 "nbformat": 4,
 "nbformat_minor": 2
}

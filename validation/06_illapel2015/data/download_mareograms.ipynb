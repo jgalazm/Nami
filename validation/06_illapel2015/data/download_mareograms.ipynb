{
 "cells": [
  {
   "cell_type": "code",
   "execution_count": 1,
   "metadata": {},
   "outputs": [
    {
     "name": "stdout",
     "output_type": "stream",
     "text": [
      "['anto', 'aric', 'buca', 'cald', 'chnr', 'const', 'coqu', 'huas2', 'iqui', 'meji', 'papo', 'pata', 'pich2', 'pisa', 'qtro', 'sano', 'talt2', 'toco2', 'valp']\n"
     ]
    }
   ],
   "source": [
    "import pandas as pd\n",
    "import numpy as np\n",
    "\n",
    "stations = \"anto,aric,buca,cald,chnr,const,coqu,huas2,iqui,meji,papo,pata,pich2,pisa,qtro,sano,talt2,toco2,valp\".split(',')\n",
    "\n",
    "print(stations)"
   ]
  },
  {
   "cell_type": "code",
   "execution_count": 2,
   "metadata": {},
   "outputs": [],
   "source": [
    "for station in stations:\n",
    "    url = 'http://www.ioc-sealevelmonitoring.org/bgraph.php?code={}&output=tab&period=30&endtime=2015-10-01'.format(station)\n",
    "    df = pd.read_html(url,header=0)[0]\n",
    "    df.to_csv(station+'.csv')"
   ]
  }
 ],
 "metadata": {
  "kernelspec": {
   "display_name": "Python 3",
   "language": "python",
   "name": "python3"
  },
  "language_info": {
   "codemirror_mode": {
    "name": "ipython",
    "version": 3
   },
   "file_extension": ".py",
   "mimetype": "text/x-python",
   "name": "python",
   "nbconvert_exporter": "python",
   "pygments_lexer": "ipython3",
   "version": "3.6.5"
  }
 },
 "nbformat": 4,
 "nbformat_minor": 2
}

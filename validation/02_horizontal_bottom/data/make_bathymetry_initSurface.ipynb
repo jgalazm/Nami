{
 "cells": [
  {
   "cell_type": "code",
   "execution_count": 1,
   "metadata": {
    "collapsed": true
   },
   "outputs": [],
   "source": [
    "import numpy as np\n",
    "import matplotlib.pyplot as plt\n",
    "%matplotlib inline"
   ]
  },
  {
   "cell_type": "code",
   "execution_count": 2,
   "metadata": {},
   "outputs": [
    {
     "data": {
      "image/png": "[encoded data removed]",
      "text/plain": [
       "<matplotlib.figure.Figure at 0x7f7cc06d6d68>"
      ]
     },
     "metadata": {},
     "output_type": "display_data"
    }
   ],
   "source": [
    "x = np.arange(-70,70,0.5)\n",
    "y = np.arange(-70,70,0.5)\n",
    "nx = x.shape[0]\n",
    "ny = y.shape[0]\n",
    "x,y = np.meshgrid(x,y,indexing='ij')\n",
    "h = 0.2*np.ones((nx,ny))\n",
    "etainit = 2*np.exp(-(x**2+y**2))\n",
    "plt.pcolormesh(etainit)\n",
    "plt.axis('equal')\n",
    "plt.colorbar()\n",
    "plt.show()"
   ]
  },
  {
   "cell_type": "code",
   "execution_count": 3,
   "metadata": {},
   "outputs": [
    {
     "data": {
      "text/plain": [
       "69.5"
      ]
     },
     "execution_count": 3,
     "metadata": {},
     "output_type": "execute_result"
    }
   ],
   "source": [
    "x.max()"
   ]
  },
  {
   "cell_type": "code",
   "execution_count": 4,
   "metadata": {
    "collapsed": true
   },
   "outputs": [],
   "source": [
    "np.savetxt('bathymetry',h)\n",
    "np.savetxt('initialSurface',etainit)"
   ]
  },
  {
   "cell_type": "code",
   "execution_count": 12,
   "metadata": {
    "collapsed": true
   },
   "outputs": [],
   "source": [
    "def exportGRD(outputname,z,ncols,nrows,xll,xur,yll,yur):\n",
    "    print(ncols,nrows,xll,xur,yll,yur)\n",
    "    f = open(outputname,'w')\n",
    "    f.write('DSAA\\n')\n",
    "    f.write('%i %i\\n'%(ncols, nrows))\n",
    "    f.write('%.10f %.10f\\n'%(xll,xur))\n",
    "    f.write('%.10f %.10f\\n'%(yll,yur))\n",
    "\n",
    "\n",
    "    f.write('%.10f %.10f\\n'%(z.min(),z.max()))\n",
    "\n",
    "    s = [' '.join(['%.10f '%num for num in z[-i,:]]) for i in range(z.shape[0])]\n",
    "\n",
    "    for ss in s:\n",
    "        f.write('%s\\n'%ss)\n",
    "    f.close()"
   ]
  },
  {
   "cell_type": "code",
   "execution_count": 13,
   "metadata": {},
   "outputs": [
    {
     "name": "stdout",
     "output_type": "stream",
     "text": [
      "280 280 -70.0 69.5 -70.0 69.5\n"
     ]
    }
   ],
   "source": [
    "args = {\n",
    "    'outputname': 'bathymetry.grd',\n",
    "    'z': h,\n",
    "    'ncols': x.shape[1],\n",
    "    'nrows': x.shape[0],\n",
    "    'xll': x.min(),\n",
    "    'xur': x.max(),\n",
    "    'yll': y.min(),\n",
    "    'yur': y.max()    \n",
    "}\n",
    "exportGRD(**args)"
   ]
  }
 ],
 "metadata": {
  "kernelspec": {
   "display_name": "Python 3",
   "language": "python",
   "name": "python3"
  },
  "language_info": {
   "codemirror_mode": {
    "name": "ipython",
    "version": 3
   },
   "file_extension": ".py",
   "mimetype": "text/x-python",
   "name": "python",
   "nbconvert_exporter": "python",
   "pygments_lexer": "ipython3",
   "version": "3.6.1"
  }
 },
 "nbformat": 4,
 "nbformat_minor": 2
}

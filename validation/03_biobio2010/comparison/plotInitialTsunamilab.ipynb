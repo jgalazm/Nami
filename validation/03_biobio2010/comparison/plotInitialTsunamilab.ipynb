{
 "cells": [
  {
   "cell_type": "code",
   "execution_count": 1,
   "metadata": {
    "collapsed": true
   },
   "outputs": [],
   "source": [
    "import numpy as np\n",
    "import matplotlib.pyplot as plt\n",
    "%matplotlib inline"
   ]
  },
  {
   "cell_type": "code",
   "execution_count": 2,
   "metadata": {
    "collapsed": true
   },
   "outputs": [],
   "source": [
    "lon = np.linspace(-120,-60,361)\n",
    "lat = np.linspace(-60,0,361)"
   ]
  },
  {
   "cell_type": "code",
   "execution_count": 3,
   "metadata": {},
   "outputs": [
    {
     "data": {
      "text/plain": [
       "<matplotlib.text.Text at 0x7f4fb80fda58>"
      ]
     },
     "execution_count": 3,
     "metadata": {},
     "output_type": "execute_result"
    },
    {
     "data": {
      "image/png": "[encoded data removed]",
      "text/plain": [
       "<matplotlib.figure.Figure at 0x7f4fb9eef710>"
      ]
     },
     "metadata": {},
     "output_type": "display_data"
    }
   ],
   "source": [
    "fig = plt.figure(figsize=(8,8))\n",
    "xmin = -75\n",
    "xmax = -70\n",
    "ymin = -40\n",
    "ymax = -30\n",
    "vmin = -2\n",
    "vmax = 2\n",
    "h0 = np.loadtxt('../tsunamilab/tlab2D_center',delimiter=',',skiprows=1).reshape((361,361))\n",
    "ax = plt.subplot(231)\n",
    "p = ax.pcolormesh(lon,lat,h0[:-1,:-1],cmap=plt.cm.seismic,vmin=vmin,vmax=vmax)\n",
    "ax.scatter(-72.668,-35.826,s=100)\n",
    "ax.set_ylim(ymin,ymax)\n",
    "ax.set_xlim(xmin,xmax)\n",
    "ax.set_aspect(1)\n",
    "ax.set_title('Center')\n"
   ]
  },
  {
   "cell_type": "code",
   "execution_count": 14,
   "metadata": {},
   "outputs": [
    {
     "data": {
      "image/png": "[encoded data removed]",
      "text/plain": [
       "<matplotlib.figure.Figure at 0x7f4fa6bf3908>"
      ]
     },
     "metadata": {},
     "output_type": "display_data"
    }
   ],
   "source": [
    "fig = plt.figure(figsize=(8,8))\n",
    "xmin = -75\n",
    "xmax = -70\n",
    "ymin = -40\n",
    "ymax = -30\n",
    "vmin = -2\n",
    "vmax = 2\n",
    "h0 = np.loadtxt('../tsunamilab/tlab2D_begintop',delimiter=',',skiprows=1).reshape((361,361))\n",
    "ax = plt.subplot(232)\n",
    "p = ax.pcolormesh(lon,lat,h0[:-1,:-1],cmap=plt.cm.seismic,vmin=vmin,vmax=vmax)\n",
    "ax.scatter(-72.668,-35.826,s=100)\n",
    "ax.set_ylim(ymin,ymax)\n",
    "ax.set_xlim(xmin,xmax)\n",
    "ax.set_aspect(1)\n",
    "ax.set_title('Begin Top')\n",
    "\n",
    "\n",
    "h0 = np.loadtxt('../tsunamilab/tlab2D_midtop',delimiter=',',skiprows=1).reshape((361,361))\n",
    "ax = plt.subplot(233)\n",
    "p = ax.pcolormesh(lon,lat,h0[:-1,:-1],cmap=plt.cm.seismic,vmin=vmin,vmax=vmax)\n",
    "ax.scatter(-72.668,-35.826,s=100)\n",
    "ax.set_ylim(ymin,ymax)\n",
    "ax.set_xlim(xmin,xmax)\n",
    "ax.set_aspect(1)\n",
    "ax.set_title('Mid Top')\n",
    "\n",
    "h0 = np.loadtxt('../tsunamilab/tlab2D_beginbottom',delimiter=',',skiprows=1).reshape((361,361))\n",
    "ax = plt.subplot(235)\n",
    "p = ax.pcolormesh(lon,lat,h0[:-1,:-1],cmap=plt.cm.seismic,vmin=vmin,vmax=vmax)\n",
    "ax.scatter(-72.668,-35.826,s=100)\n",
    "ax.set_ylim(ymin,ymax)\n",
    "ax.set_xlim(xmin,xmax)\n",
    "ax.set_aspect(1)\n",
    "ax.set_title('Begin Bot')\n",
    "\n",
    "h0 = np.loadtxt('../tsunamilab/tlab2D_midbottom',delimiter=',',skiprows=1).reshape((361,361))\n",
    "ax = plt.subplot(236)\n",
    "p = ax.pcolormesh(lon,lat,h0[:-1,:-1],cmap=plt.cm.seismic,vmin=vmin,vmax=vmax)\n",
    "ax.scatter(-72.668,-35.826,s=100)\n",
    "ax.set_ylim(ymin,ymax)\n",
    "ax.set_xlim(xmin,xmax)\n",
    "ax.set_aspect(1)\n",
    "ax.set_title('Mid Bot')\n",
    "\n",
    "\n",
    "h0 = np.loadtxt('../tsunamilab/tlab2D_center',delimiter=',',skiprows=1).reshape((361,361))\n",
    "ax = plt.subplot(231)\n",
    "p = ax.pcolormesh(lon,lat,h0[:-1,:-1],cmap=plt.cm.seismic,vmin=vmin,vmax=vmax)\n",
    "ax.scatter(-72.668,-35.826,s=100)\n",
    "ax.set_ylim(ymin,ymax)\n",
    "ax.set_xlim(xmin,xmax)\n",
    "ax.set_aspect(1)\n",
    "ax.set_title('Center')\n",
    "\n",
    "\n",
    "plt.tight_layout()"
   ]
  }
 ],
 "metadata": {
  "kernelspec": {
   "display_name": "Python 3",
   "language": "python",
   "name": "python3"
  },
  "language_info": {
   "codemirror_mode": {
    "name": "ipython",
    "version": 3
   },
   "file_extension": ".py",
   "mimetype": "text/x-python",
   "name": "python",
   "nbconvert_exporter": "python",
   "pygments_lexer": "ipython3",
   "version": "3.6.2"
  }
 },
 "nbformat": 4,
 "nbformat_minor": 2
}

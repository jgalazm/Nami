{
 "cells": [
  {
   "cell_type": "markdown",
   "metadata": {},
   "source": [
    "This notebook aims at comparing easywave reference point locations"
   ]
  },
  {
   "cell_type": "code",
   "execution_count": 34,
   "metadata": {
    "collapsed": true
   },
   "outputs": [],
   "source": [
    "import numpy as np\n",
    "import matplotlib.pyplot as plt\n",
    "%matplotlib inline"
   ]
  },
  {
   "cell_type": "code",
   "execution_count": 35,
   "metadata": {
    "collapsed": true
   },
   "outputs": [],
   "source": [
    "def ew2py(fileName):\n",
    "    \"\"\"\n",
    "        Reads EasyWave binary output into numpy arrays. \n",
    "        Works for .ssh and .sshmax files (at least).\n",
    "        \n",
    "        Example usage:\n",
    "\n",
    "        lon, lat, h = ew2py(fileName)    \n",
    "        plt.pcolormesh(lon,lat,h)\n",
    "    \"\"\"\n",
    "    import struct\n",
    "    from numpy import zeros, linspace\n",
    "\n",
    "    f = open(fileName, 'rb')\n",
    "    dsbb = f.read(4)\n",
    "\n",
    "    nOutI = struct.unpack('h',f.read(2))[0]\n",
    "    nOutJ = struct.unpack('h',f.read(2))[0]\n",
    "    \n",
    "    lonOutMin = struct.unpack('d',f.read(8))[0]\n",
    "    lonOutMax = struct.unpack('d',f.read(8))[0]\n",
    "    latOutMin = struct.unpack('d',f.read(8))[0]\n",
    "    latOutMax = struct.unpack('d',f.read(8))[0]\n",
    "    \n",
    "    tmp = f.read(8)\n",
    "    tmp = f.read(8)\n",
    "\n",
    "    lon = linspace(lonOutMin,lonOutMax,nOutI)\n",
    "    lat = linspace(latOutMin,latOutMax,nOutJ)\n",
    "    values = zeros((nOutJ,nOutI))\n",
    "\n",
    "    for j in range(nOutJ):\n",
    "        for i in range(nOutI):\n",
    "            value = f.read(4)\n",
    "            value = struct.unpack('f',value)[0]\n",
    "            values[j,i] = value\n",
    "    return lon, lat, values"
   ]
  },
  {
   "cell_type": "code",
   "execution_count": 122,
   "metadata": {},
   "outputs": [
    {
     "data": {
      "image/png": "[encoded data removed]",
      "text/plain": [
       "<matplotlib.figure.Figure at 0x7f4218420a90>"
      ]
     },
     "metadata": {},
     "output_type": "display_data"
    }
   ],
   "source": [
    "fig = plt.figure(figsize=(8,8))\n",
    "xmin = -75\n",
    "xmax = -70\n",
    "ymin = -40\n",
    "ymax = -30\n",
    "vmin = -2\n",
    "vmax = 2\n",
    "fileName = '../easyWave_begintop/eWave.2D.{0:05d}.ssh'.format(0) \n",
    "lon, lat, h0 = ew2py(fileName)\n",
    "ax = plt.subplot(232)\n",
    "p = ax.pcolormesh(lon,lat,h0[:-1,:-1],cmap=plt.cm.seismic,vmin=vmin,vmax=vmax)\n",
    "ax.scatter(-72.668,-35.826,s=100)\n",
    "ax.set_ylim(ymin,ymax)\n",
    "ax.set_xlim(xmin,xmax)\n",
    "ax.set_aspect(1)\n",
    "ax.set_title('Begin Top')\n",
    "\n",
    "\n",
    "fileName = '../easyWave_midtop/eWave.2D.{0:05d}.ssh'.format(0) \n",
    "lon, lat, h0 = ew2py(fileName)\n",
    "ax = plt.subplot(233)\n",
    "p = ax.pcolormesh(lon,lat,h0[:-1,:-1],cmap=plt.cm.seismic,vmin=vmin,vmax=vmax)\n",
    "ax.scatter(-72.668,-35.826,s=100)\n",
    "ax.set_ylim(ymin,ymax)\n",
    "ax.set_xlim(xmin,xmax)\n",
    "ax.set_aspect(1)\n",
    "ax.set_title('Mid Top')\n",
    "\n",
    "fileName = '../easyWave_beginbot//eWave.2D.{0:05d}.ssh'.format(0) \n",
    "lon, lat, h0 = ew2py(fileName)\n",
    "ax = plt.subplot(235)\n",
    "p = ax.pcolormesh(lon,lat,h0[:-1,:-1],cmap=plt.cm.seismic,vmin=vmin,vmax=vmax)\n",
    "ax.scatter(-72.668,-35.826,s=100)\n",
    "ax.set_ylim(ymin,ymax)\n",
    "ax.set_xlim(xmin,xmax)\n",
    "ax.set_aspect(1)\n",
    "ax.set_title('Begin Bot')\n",
    "\n",
    "fileName = '../easyWave_midbot//eWave.2D.{0:05d}.ssh'.format(0) \n",
    "lon, lat, h0 = ew2py(fileName)\n",
    "ax = plt.subplot(236)\n",
    "p = ax.pcolormesh(lon,lat,h0[:-1,:-1],cmap=plt.cm.seismic,vmin=vmin,vmax=vmax)\n",
    "ax.scatter(-72.668,-35.826,s=100)\n",
    "ax.set_ylim(ymin,ymax)\n",
    "ax.set_xlim(xmin,xmax)\n",
    "ax.set_aspect(1)\n",
    "ax.set_title('Mid Bot')\n",
    "\n",
    "\n",
    "fileName = '../easyWave_center//eWave.2D.{0:05d}.ssh'.format(0) \n",
    "lon, lat, h0 = ew2py(fileName)\n",
    "ax = plt.subplot(231)\n",
    "p = ax.pcolormesh(lon,lat,h0[:-1,:-1],cmap=plt.cm.seismic,vmin=vmin,vmax=vmax)\n",
    "ax.scatter(-72.668,-35.826,s=100)\n",
    "ax.set_ylim(ymin,ymax)\n",
    "ax.set_xlim(xmin,xmax)\n",
    "ax.set_aspect(1)\n",
    "ax.set_title('Center')\n",
    "\n",
    "\n",
    "plt.tight_layout()"
   ]
  },
  {
   "cell_type": "markdown",
   "metadata": {},
   "source": [
    "Conclusion:\n",
    "* Top/bottom edges refer to \"close to the surface. That is why they look at the \"left\" or \"right\" on these plots\n",
    "* In my (physical) notebook wrote notes on formulas for obtainin okada's coordinates from northing,eastings of the stereo projection"
   ]
  },
  {
   "cell_type": "code",
   "execution_count": 133,
   "metadata": {
    "collapsed": true
   },
   "outputs": [],
   "source": [
    "fileName = '../easyWave_midtop/eWave.2D.{0:05d}.ssh'.format(0) \n",
    "lon, lat, h0 = ew2py(fileName)\n",
    "np.savetxt('../data/easyWave_midtop_initialcondition',h0)"
   ]
  },
  {
   "cell_type": "code",
   "execution_count": 135,
   "metadata": {
    "collapsed": true
   },
   "outputs": [],
   "source": [
    "tlab = np.loadtxt('../tsunamilab/tlab2D_easywave',skiprows=1,delimiter=',').reshape((361,361))"
   ]
  },
  {
   "cell_type": "code",
   "execution_count": 163,
   "metadata": {},
   "outputs": [
    {
     "data": {
      "image/png": "[encoded data removed]",
      "text/plain": [
       "<matplotlib.figure.Figure at 0x7f42162b0198>"
      ]
     },
     "metadata": {},
     "output_type": "display_data"
    }
   ],
   "source": [
    "plt.figure(figsize=(9,4))\n",
    "plt.subplot(121)\n",
    "plt.pcolormesh(h0,vmax=5.0,vmin=0.0)\n",
    "plt.xlim(270,290)\n",
    "plt.ylim(120,180)\n",
    "plt.title('easywave')\n",
    "\n",
    "plt.subplot(122)\n",
    "plt.pcolormesh(tlab,vmax=5.0,vmin=0.0)\n",
    "plt.xlim(270,290)\n",
    "plt.ylim(120,180)\n",
    "plt.title('tsunamilab')\n",
    "plt.tight_layout()"
   ]
  },
  {
   "cell_type": "code",
   "execution_count": 146,
   "metadata": {},
   "outputs": [
    {
     "data": {
      "text/plain": [
       "(120, 180)"
      ]
     },
     "execution_count": 146,
     "metadata": {},
     "output_type": "execute_result"
    },
    {
     "data": {
      "image/png": "[encoded data removed]",
      "text/plain": [
       "<matplotlib.figure.Figure at 0x7f421864aef0>"
      ]
     },
     "metadata": {},
     "output_type": "display_data"
    }
   ],
   "source": [
    "plt.pcolormesh(tlab-h0)\n",
    "plt.xlim(250,300)\n",
    "plt.ylim(120,180)"
   ]
  },
  {
   "cell_type": "code",
   "execution_count": 147,
   "metadata": {},
   "outputs": [
    {
     "data": {
      "text/plain": [
       "2.3991634845733643"
      ]
     },
     "execution_count": 147,
     "metadata": {},
     "output_type": "execute_result"
    }
   ],
   "source": [
    "np.abs(tlab-h0).max()"
   ]
  }
 ],
 "metadata": {
  "kernelspec": {
   "display_name": "Python 3",
   "language": "python",
   "name": "python3"
  },
  "language_info": {
   "codemirror_mode": {
    "name": "ipython",
    "version": 3
   },
   "file_extension": ".py",
   "mimetype": "text/x-python",
   "name": "python",
   "nbconvert_exporter": "python",
   "pygments_lexer": "ipython3",
   "version": "3.6.2"
  }
 },
 "nbformat": 4,
 "nbformat_minor": 2
}

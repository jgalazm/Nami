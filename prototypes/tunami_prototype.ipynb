{
 "cells": [
  {
   "cell_type": "code",
   "execution_count": 1,
   "metadata": {
    "collapsed": true
   },
   "outputs": [],
   "source": [
    "import numpy as np\n",
    "import matplotlib.pyplot as plt\n",
    "%matplotlib inline"
   ]
  },
  {
   "cell_type": "code",
   "execution_count": 2,
   "metadata": {
    "collapsed": true
   },
   "outputs": [],
   "source": [
    "g = 9.81\n",
    "Rearth = 6378000.0"
   ]
  },
  {
   "cell_type": "code",
   "execution_count": 3,
   "metadata": {
    "collapsed": true
   },
   "outputs": [],
   "source": [
    "lon = np.linspace(-120, -60, 361)\n",
    "lat = np.linspace(-60, 0, 361)\n",
    "lon, lat = np.meshgrid(lon,lat,indexing='ij')\n",
    "nx = lon.shape[0]\n",
    "ny = lat.shape[0]\n",
    "dlon = np.diff(lon[:,0])[0]\n",
    "dlat = np.diff(lat[0,:])[0]"
   ]
  },
  {
   "cell_type": "code",
   "execution_count": 4,
   "metadata": {
    "collapsed": true
   },
   "outputs": [],
   "source": [
    "def torad(s):\n",
    "    return s*np.pi/180.0"
   ]
  },
  {
   "cell_type": "code",
   "execution_count": 5,
   "metadata": {},
   "outputs": [
    {
     "data": {
      "text/plain": [
       "<matplotlib.colorbar.Colorbar at 0x7f25a2a874a8>"
      ]
     },
     "execution_count": 5,
     "metadata": {},
     "output_type": "execute_result"
    },
    {
     "data": {
      "image/png": "[encoded data removed]",
      "text/plain": [
       "<matplotlib.figure.Figure at 0x7f25a2cc4f28>"
      ]
     },
     "metadata": {},
     "output_type": "display_data"
    }
   ],
   "source": [
    "# h = 4000*np.ones((nx,ny))\n",
    "h = np.loadtxt('../validation/03_pacific_south_america/data/bathymetry_SA').T\n",
    "h = np.where(h<=0,0.0,h)\n",
    "r2 = 1\n",
    "etainit = np.loadtxt('../validation/03_pacific_south_america/data/easyWave_midtop_initialcondition').T\n",
    "plt.pcolormesh(lon,lat,etainit)\n",
    "\n",
    "plt.axis('equal')\n",
    "plt.colorbar()"
   ]
  },
  {
   "cell_type": "code",
   "execution_count": 6,
   "metadata": {
    "collapsed": true
   },
   "outputs": [],
   "source": [
    "latrad = torad(lat)\n",
    "dlonrad = torad(dlon)\n",
    "dlatrad = torad(dlat)\n",
    "ds = dlonrad\n",
    "Dx = Rearth*dlonrad\n",
    "dt = 0.25*np.min(np.cos(latrad)*Dx/np.sqrt(g*h.max()))"
   ]
  },
  {
   "cell_type": "code",
   "execution_count": 7,
   "metadata": {
    "collapsed": true
   },
   "outputs": [],
   "source": [
    "latip = np.zeros((nx+1,ny))\n",
    "latip[1:,:] = latrad\n",
    "latip[0,:] = latrad[0,:]\n",
    "\n",
    "latjp = np.zeros((nx,ny+1))\n",
    "latjp[:,1:] = torad(lat+dlat*0.5)\n",
    "latjp[:,0] = torad(lat[0,:].min()-0.5*dlat)\n",
    "\n",
    "hip = np.zeros((nx+1,ny))\n",
    "hip[1:-1,:] = 0.5*(h[1:,:]+h[:-1,:])\n",
    "hip[0,:] = h[0,:]\n",
    "hip[-1,:] = h[-1,:]\n",
    "\n",
    "hjp = np.zeros((nx,ny+1))\n",
    "hjp[:,1:-1] = 0.5*(h[:,1:]+h[:,:-1])\n",
    "hjp[:,0] = h[:,0]\n",
    "hjp[:,-1] = h[:,-1]"
   ]
  },
  {
   "cell_type": "code",
   "execution_count": 8,
   "metadata": {
    "collapsed": true
   },
   "outputs": [],
   "source": [
    "#lat[0,:]+lon[:,0]"
   ]
  },
  {
   "cell_type": "code",
   "execution_count": 9,
   "metadata": {
    "collapsed": true
   },
   "outputs": [],
   "source": [
    "poiloc = np.array([-86.374, -17.984 ])\n",
    "poipixel = np.argmin(np.abs(poiloc[0]-lon[:,0])),np.argmin(np.abs(poiloc[1]-lat[0,:]))\n",
    "poival = np.zeros((int(8*60*60/dt),2))"
   ]
  },
  {
   "cell_type": "code",
   "execution_count": 10,
   "metadata": {
    "collapsed": true
   },
   "outputs": [],
   "source": [
    "H0 = H1 = np.zeros((nx+2,ny+2))\n",
    "H0[1:-1,1:-1] = H1[1:-1,1:-1] = etainit\n",
    "M0 = M1 =  np.zeros((nx+1  ,ny)) # M[i,j] = M_{i+1/2,j}, i=0..nx, j = 0..ny-1\n",
    "N0 = N1 =  np.zeros((nx  ,ny+1)) # N[i,j] = N_{i,j+1/2}, i=0..nx-1, j=0..ny-1"
   ]
  },
  {
   "cell_type": "code",
   "execution_count": 11,
   "metadata": {
    "scrolled": false
   },
   "outputs": [
    {
     "name": "stdout",
     "output_type": "stream",
     "text": [
      "0\n",
      "100\n",
      "200\n",
      "300\n",
      "400\n",
      "500\n",
      "600\n",
      "700\n",
      "800\n",
      "900\n",
      "1000\n",
      "1100\n",
      "1200\n",
      "1300\n",
      "1400\n",
      "1500\n",
      "1600\n",
      "1700\n",
      "1800\n",
      "1900\n",
      "2000\n",
      "2100\n",
      "2200\n",
      "2300\n",
      "2400\n",
      "2500\n",
      "2600\n",
      "2700\n",
      "2800\n",
      "2900\n",
      "3000\n",
      "3100\n",
      "3200\n",
      "3300\n",
      "3400\n"
     ]
    }
   ],
   "source": [
    "t = 0.0\n",
    "\n",
    "for n in range(int(8*60*60/dt)):\n",
    "    if n%100==0: print(n)\n",
    "    t += dt\n",
    "    H0 = np.copy(H1)\n",
    "    M0 = np.copy(M1)\n",
    "    N0 = np.copy(N1)\n",
    "    \n",
    "    H1[1:-1,1:-1] = H0[1:-1,1:-1]-dt/(Rearth*np.cos(latrad)*ds)*(M0[1:,:]-M0[:-1,:] \\\n",
    "                                            + N0[:,1:]*np.cos(latjp[:,1:]) - N0[:,:-1]*np.cos(latjp[:,:-1]))\n",
    "\n",
    "    M1 = M0 -dt*g*hip/(Rearth*np.cos(latip)*dlonrad)*(H1[1:,1:-1]-H1[:-1,1:-1])\n",
    "    N1 = N0 -dt*g*hjp/(Rearth*dlatrad)*(H1[1:-1,1:]-H1[1:-1,:-1])\n",
    "    \n",
    "\n",
    "    \n",
    "    poival[n,0] = t\n",
    "    poival[n,1] = H1[poipixel[0]+1,poipixel[1]+1]"
   ]
  },
  {
   "cell_type": "code",
   "execution_count": 12,
   "metadata": {
    "collapsed": true
   },
   "outputs": [],
   "source": [
    "dart = np.loadtxt('../validation/03_pacific_south_america/comparison/32412_notide_2010.txt')"
   ]
  },
  {
   "cell_type": "code",
   "execution_count": 14,
   "metadata": {},
   "outputs": [
    {
     "data": {
      "text/plain": [
       "(150.0, 360)"
      ]
     },
     "execution_count": 14,
     "metadata": {},
     "output_type": "execute_result"
    },
    {
     "data": {
      "image/png": "[encoded data removed]",
      "text/plain": [
       "<matplotlib.figure.Figure at 0x7f25a2b82400>"
      ]
     },
     "metadata": {},
     "output_type": "display_data"
    }
   ],
   "source": [
    "plt.plot(dart[:,0]/60,dart[:,1])\n",
    "plt.plot(poival[:,0]/60,poival[:,1])\n",
    "plt.xlim(2.5*60,6*60)"
   ]
  },
  {
   "cell_type": "markdown",
   "metadata": {},
   "source": [
    "# Serial (non vectorized) code"
   ]
  },
  {
   "cell_type": "markdown",
   "metadata": {},
   "source": [
    "    for n in range(20):\n",
    "        print(n)\n",
    "        for i in range(1,nx+1):\n",
    "            for j in range(1,ny+1):            \n",
    "                H1[i,j] = H0[i,j] -dt/(Rearth*np.cos(latrad[i-1,j-1])*dlonrad) * \\\n",
    "                            (M0[i,j-1]-M0[i-1,j-1]  + \\\n",
    "                            N0[i-1,j]*np.cos(latjp[i-1,j]) - N0[i-1,j-1]*np.cos(latjp[i-1,j-1]) ) \n",
    "\n",
    "        for i in range(nx+1):\n",
    "            for j in range(ny):    \n",
    "                M1[i,j] = M0[i,j] - dt*g*hip[i,j]/(Rearth*np.cos(latip[i,j])*dlonrad)*(H1[i+1,j]-H1[i,j])\n",
    "\n",
    "        for i in range(nx):\n",
    "            for j in range(ny+1):\n",
    "                N1[i,j] = N0[i,j] -dt*g*hjp[i,j]/(Rearth*dlatrad)*(H1[i,j+1]-H1[i,j])\n",
    "\n",
    "        H0 = np.copy(H1)\n",
    "        M0 = np.copy(M1)\n",
    "        N0 = np.copy(N1)"
   ]
  }
 ],
 "metadata": {
  "kernelspec": {
   "display_name": "Python 3",
   "language": "python",
   "name": "python3"
  },
  "language_info": {
   "codemirror_mode": {
    "name": "ipython",
    "version": 3
   },
   "file_extension": ".py",
   "mimetype": "text/x-python",
   "name": "python",
   "nbconvert_exporter": "python",
   "pygments_lexer": "ipython3",
   "version": "3.6.2"
  }
 },
 "nbformat": 4,
 "nbformat_minor": 2
}

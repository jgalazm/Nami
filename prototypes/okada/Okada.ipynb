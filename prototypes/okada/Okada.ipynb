{
 "cells": [
  {
   "cell_type": "code",
   "execution_count": 1,
   "metadata": {
    "collapsed": true
   },
   "outputs": [],
   "source": [
    "import numpy as np \n",
    "import matplotlib.pyplot as plt\n",
    "%matplotlib inline"
   ]
  },
  {
   "cell_type": "markdown",
   "metadata": {},
   "source": [
    "# Dislocation model of Okada (1985)"
   ]
  },
  {
   "cell_type": "markdown",
   "metadata": {},
   "source": [
    "Based on the [Matlab function of François Beauducel (Copyright 1997-2012)](http://www.mathworks.com/matlabcentral/fileexchange/25982-okada--surface-deformation-due-to-a-finite-rectangular-source)."
   ]
  },
  {
   "cell_type": "code",
   "execution_count": 2,
   "metadata": {},
   "outputs": [],
   "source": [
    "rm okada.py"
   ]
  },
  {
   "cell_type": "code",
   "execution_count": 3,
   "metadata": {},
   "outputs": [
    {
     "name": "stdout",
     "output_type": "stream",
     "text": [
      "Writing okada.py\n"
     ]
    }
   ],
   "source": [
    "%%writefile okada.py\n",
    "import numpy as np\n",
    "def chinnery(f,x,p,L,W,q,dip,nu):\n",
    "    u = f(x,p,q,dip,nu) \\\n",
    "    - f(x,p-W,q,dip,nu) \\\n",
    "    - f(x-L,p,q,dip,nu) \\\n",
    "    + f(x-L,p-W,q,dip,nu)\n",
    "    return u"
   ]
  },
  {
   "cell_type": "code",
   "execution_count": 4,
   "metadata": {},
   "outputs": [
    {
     "name": "stdout",
     "output_type": "stream",
     "text": [
      "Appending to okada.py\n"
     ]
    }
   ],
   "source": [
    "%%writefile okada.py -a\n",
    "\n",
    "def I4(db,eta,q,dip,nu,R):\n",
    "    I = 0.0*eta\n",
    "    if (np.abs(np.cos(dip))>np.finfo(1.0).eps):\n",
    "        I = (1.-2*nu)*1./np.cos(dip)*(np.log(R+db)-np.sin(dip)*np.log(R+eta))\n",
    "    else:\n",
    "        I = -(1.-2.*nu)*q/(R+db)\n",
    "    return I"
   ]
  },
  {
   "cell_type": "code",
   "execution_count": 5,
   "metadata": {},
   "outputs": [
    {
     "name": "stdout",
     "output_type": "stream",
     "text": [
      "Appending to okada.py\n"
     ]
    }
   ],
   "source": [
    "%%writefile okada.py -a\n",
    "\n",
    "def I5(xi,eta,q,dip,nu,R,db):\n",
    "    X = np.sqrt(xi**2+q**2)\n",
    "    I = 0.0*xi\n",
    "    if np.abs(np.cos(dip))>np.finfo(1.0).eps:\n",
    "        I = (1-2.*nu)*2./np.cos(dip) \\\n",
    "                    *np.arctan( (eta*(X+q*np.cos(dip)) + X*(R+X)*np.sin(dip)  ) \\\n",
    "                    /(xi*(R+X)*np.cos(dip)))\n",
    "        I = np.where(np.isclose(xi,0.0),0.0,I)\n",
    "    else:\n",
    "        I = -(1-2*nu)*xi*np.sin(dip)/(R+db)\n",
    "    return I\n"
   ]
  },
  {
   "cell_type": "code",
   "execution_count": 6,
   "metadata": {},
   "outputs": [
    {
     "name": "stdout",
     "output_type": "stream",
     "text": [
      "Appending to okada.py\n"
     ]
    }
   ],
   "source": [
    "%%writefile okada.py -a\n",
    "\n",
    "def uz_ss(xi,eta,q,dip,nu):\n",
    "    R = np.sqrt(xi**2+eta**2+q**2)\n",
    "    db = eta*np.sin(dip) - q*np.cos(dip)\n",
    "    u = db*q/(R*(R+eta)) \\\n",
    "        + q*np.sin(dip)/(R+eta) \\\n",
    "        + I4(db,eta,q,dip,nu,R)*np.sin(dip)\n",
    "    return u"
   ]
  },
  {
   "cell_type": "code",
   "execution_count": 7,
   "metadata": {},
   "outputs": [
    {
     "name": "stdout",
     "output_type": "stream",
     "text": [
      "Appending to okada.py\n"
     ]
    }
   ],
   "source": [
    "%%writefile okada.py -a\n",
    "\n",
    "def uz_ds(xi,eta,q,dip,nu):\n",
    "    R = np.sqrt(xi**2+eta**2+q**2)\n",
    "    db = eta*np.sin(dip) - q*np.cos(dip)\n",
    "    u = db*q/(R*(R+xi)) \\\n",
    "        - I5(xi,eta,q,dip,nu,R,db)*np.sin(dip)*np.cos(dip)\n",
    "    u = np.where(q!=0.0,\n",
    "                 u+np.sin(dip)*np.arctan((xi*eta)/(q*R)),\n",
    "                 u)\n",
    "    return u"
   ]
  },
  {
   "cell_type": "code",
   "execution_count": 8,
   "metadata": {},
   "outputs": [
    {
     "name": "stdout",
     "output_type": "stream",
     "text": [
      "Appending to okada.py\n"
     ]
    }
   ],
   "source": [
    "%%writefile okada.py -a\n",
    "\n",
    "def uz_tf(xi,eta,q,dip,nu):\n",
    "    R = np.sqrt(xi**2+eta**2+q**2)\n",
    "    db = eta*np.sin(dip) - q *np.cos(dip)\n",
    "    u = (eta*np.cos(dip) + q*np.sin(dip))*q/(R*(R+xi)) \\\n",
    "        + np.cos(dip)*xi*q/(R*(R+eta)) \\\n",
    "        - I5(xi,eta,q,dip,nu,R,db)*np.sin(dip)**2\n",
    "    u = np.where( q!=0.0, \n",
    "                 u - np.cos(dip)*np.arctan(xi*eta/(q*R)),\n",
    "                u)\n",
    "    return u"
   ]
  },
  {
   "cell_type": "code",
   "execution_count": 9,
   "metadata": {},
   "outputs": [
    {
     "name": "stdout",
     "output_type": "stream",
     "text": [
      "Appending to okada.py\n"
     ]
    }
   ],
   "source": [
    "%%writefile okada.py -a\n",
    "\n",
    "def okada(n,e,depth,strike,dip,L,W,rake,slip,U3):\n",
    "    nu = 0.25\n",
    "    strike = strike*np.pi/180.\n",
    "    dip = dip*np.pi/180.\n",
    "    rake = rake*np.pi/180.\n",
    "    \n",
    "    U1 = np.cos(rake)*slip\n",
    "    U2 = np.sin(rake)*slip\n",
    "    \n",
    "    x = np.cos(strike)*n + np.sin(strike)*e;\n",
    "    y = np.sin(strike)*n - np.cos(strike)*e;\n",
    "    d = depth;\n",
    "\n",
    "    x = x + 0.5*L\n",
    "    y = y + 0.5*W*np.cos(dip)\n",
    "    d = d + 0.5*W*np.sin(dip)\n",
    "    \n",
    "    p = y*np.cos(dip) + d*np.sin(dip)\n",
    "    q = y*np.sin(dip) - d*np.cos(dip)    \n",
    "    \n",
    "    uz = -U1/(2.*np.pi) * chinnery(uz_ss,x,p,L,W,q,dip,nu) \\\n",
    "        - U2/(2.*np.pi) * chinnery(uz_ds,x,p,L,W,q,dip,nu) \\\n",
    "        + U3/(2.*np.pi) * chinnery(uz_tf,x,p,L,W,q,dip,nu)    \n",
    "    return uz"
   ]
  },
  {
   "cell_type": "markdown",
   "metadata": {},
   "source": [
    "# Examples"
   ]
  },
  {
   "cell_type": "markdown",
   "metadata": {},
   "source": [
    "## A basic example (from the original code)"
   ]
  },
  {
   "cell_type": "code",
   "execution_count": 10,
   "metadata": {
    "collapsed": true
   },
   "outputs": [],
   "source": [
    "from okada import okada"
   ]
  },
  {
   "cell_type": "code",
   "execution_count": 11,
   "metadata": {
    "collapsed": true,
    "scrolled": true
   },
   "outputs": [],
   "source": [
    "e,n = np.meshgrid(np.linspace(-10,10,100),np.linspace(-10,10,100))"
   ]
  },
  {
   "cell_type": "code",
   "execution_count": 12,
   "metadata": {
    "collapsed": true
   },
   "outputs": [],
   "source": [
    "depth = 2.\n",
    "strike = 30.\n",
    "dip = 70.\n",
    "L = 5.\n",
    "W = 3.\n",
    "rake = -45.\n",
    "slip = 1.0\n",
    "U3 = 1.0\n",
    "\n",
    "uz1  = okada(n,e,depth,strike,dip,L,W,rake,slip,U3)"
   ]
  },
  {
   "cell_type": "code",
   "execution_count": 13,
   "metadata": {
    "scrolled": true
   },
   "outputs": [
    {
     "data": {
      "text/plain": [
       "<matplotlib.colorbar.Colorbar at 0x7fdea42d8208>"
      ]
     },
     "execution_count": 13,
     "metadata": {},
     "output_type": "execute_result"
    },
    {
     "data": {
      "image/png": "[encoded data removed]",
      "text/plain": [
       "<matplotlib.figure.Figure at 0x7fdea5200f60>"
      ]
     },
     "metadata": {},
     "output_type": "display_data"
    }
   ],
   "source": [
    "plt.pcolormesh(e,n,uz1,cmap=plt.cm.jet)\n",
    "plt.colorbar()"
   ]
  },
  {
   "cell_type": "markdown",
   "metadata": {},
   "source": [
    "# Okada (1985) reference solution"
   ]
  },
  {
   "cell_type": "markdown",
   "metadata": {
    "collapsed": true
   },
   "source": [
    "## Case 2"
   ]
  },
  {
   "cell_type": "markdown",
   "metadata": {},
   "source": [
    "$ x = 2$;\n",
    "$ y = 3$;\n",
    "$ d = 4$;\n",
    "$ \\delta = 70$;\n",
    "$ L = 3$\n",
    "$ W = 2$\n",
    "\n",
    "And I only care about $u_z$"
   ]
  },
  {
   "cell_type": "code",
   "execution_count": 17,
   "metadata": {
    "collapsed": true
   },
   "outputs": [],
   "source": [
    "L = 3\n",
    "W = 2\n",
    "x = 2\n",
    "y = 3\n",
    "d = 4\n",
    "dip = 70\n",
    "strike = 90"
   ]
  },
  {
   "cell_type": "code",
   "execution_count": 18,
   "metadata": {
    "collapsed": true
   },
   "outputs": [],
   "source": [
    "depth = d-np.sin(np.deg2rad(dip))\n",
    "e = x - L/2\n",
    "n = y - np.cos(np.deg2rad(dip))"
   ]
  },
  {
   "cell_type": "markdown",
   "metadata": {},
   "source": [
    "If strike-slip fault (rake=0) then $u_z$  should be -2.74E-3"
   ]
  },
  {
   "cell_type": "code",
   "execution_count": 19,
   "metadata": {
    "scrolled": true
   },
   "outputs": [
    {
     "data": {
      "text/plain": [
       "-0.0027474058276388226"
      ]
     },
     "execution_count": 19,
     "metadata": {},
     "output_type": "execute_result"
    }
   ],
   "source": [
    "okada(n=n, e=e, depth=depth, strike=strike, dip=dip, L=L, W=W, rake=0, slip=1, U3=0)"
   ]
  },
  {
   "cell_type": "markdown",
   "metadata": {},
   "source": [
    "If dip-slip fault (rake=90) then $u_z$  should be -3.564E-2"
   ]
  },
  {
   "cell_type": "code",
   "execution_count": 20,
   "metadata": {},
   "outputs": [
    {
     "data": {
      "text/plain": [
       "-0.035638557673268588"
      ]
     },
     "execution_count": 20,
     "metadata": {},
     "output_type": "execute_result"
    }
   ],
   "source": [
    "okada(n=n, e=e, depth=depth, strike=strike, dip=dip, L=L, W=W, rake=90, slip=1, U3=0)"
   ]
  },
  {
   "cell_type": "markdown",
   "metadata": {},
   "source": [
    "If tensile-slip fault (rake=0, slip = 0, U3=1) then $u_z$  should be +3.214E-3"
   ]
  },
  {
   "cell_type": "code",
   "execution_count": 21,
   "metadata": {},
   "outputs": [
    {
     "data": {
      "text/plain": [
       "0.0032141931142209918"
      ]
     },
     "execution_count": 21,
     "metadata": {},
     "output_type": "execute_result"
    }
   ],
   "source": [
    "okada(n=n, e=e, depth=depth, strike=strike, dip=dip, L=L, W=W, rake=0, slip=0, U3=1)"
   ]
  },
  {
   "cell_type": "markdown",
   "metadata": {},
   "source": [
    "## Case 3"
   ]
  },
  {
   "cell_type": "markdown",
   "metadata": {},
   "source": [
    "$ x = 0$;\n",
    "$ y = 0$;\n",
    "$ d = 4$;\n",
    "$ \\delta = 90$;\n",
    "$ L = 3$\n",
    "$ W = 2$\n"
   ]
  },
  {
   "cell_type": "code",
   "execution_count": 22,
   "metadata": {
    "collapsed": true
   },
   "outputs": [],
   "source": [
    "L = 3\n",
    "W = 2\n",
    "x = 0\n",
    "y = 0\n",
    "d = 4\n",
    "dip = 90\n",
    "rake = 0\n",
    "strike = 90"
   ]
  },
  {
   "cell_type": "code",
   "execution_count": 23,
   "metadata": {
    "collapsed": true
   },
   "outputs": [],
   "source": [
    "depth = d-np.sin(np.deg2rad(dip))\n",
    "e = x - L/2\n",
    "n = y - np.cos(np.deg2rad(dip))"
   ]
  },
  {
   "cell_type": "markdown",
   "metadata": {},
   "source": [
    "If strike-slip fault (rake=0) then $u_z$  should be 0"
   ]
  },
  {
   "cell_type": "code",
   "execution_count": 24,
   "metadata": {},
   "outputs": [
    {
     "data": {
      "text/plain": [
       "-3.503278240701084e-18"
      ]
     },
     "execution_count": 24,
     "metadata": {},
     "output_type": "execute_result"
    }
   ],
   "source": [
    "okada(n=n, e=e, depth=depth, strike=strike, dip=dip, L=L, W=W, rake=rake, slip=1, U3=0)"
   ]
  },
  {
   "cell_type": "markdown",
   "metadata": {},
   "source": [
    "If dip-slip fault (rake=90) then $u_z$  should be 0"
   ]
  },
  {
   "cell_type": "code",
   "execution_count": 25,
   "metadata": {},
   "outputs": [
    {
     "data": {
      "text/plain": [
       "3.5339496460705743e-17"
      ]
     },
     "execution_count": 25,
     "metadata": {},
     "output_type": "execute_result"
    }
   ],
   "source": [
    "okada(n=n, e=e, depth=depth, strike=strike, dip=dip, L=L, W=W, rake=90, slip=1, U3=0)"
   ]
  },
  {
   "cell_type": "markdown",
   "metadata": {},
   "source": [
    "If tensile-slip fault (rake=0, slip = 0, U3=1) then $u_z$  should be -1.606E-2"
   ]
  },
  {
   "cell_type": "code",
   "execution_count": 26,
   "metadata": {},
   "outputs": [
    {
     "data": {
      "text/plain": [
       "-0.016062746464282643"
      ]
     },
     "execution_count": 26,
     "metadata": {},
     "output_type": "execute_result"
    }
   ],
   "source": [
    "okada(n=n, e=e, depth=depth, strike=strike, dip=dip, L=L, W=W, rake=0, slip=0, U3=1)"
   ]
  },
  {
   "cell_type": "markdown",
   "metadata": {},
   "source": [
    "## Case 4"
   ]
  },
  {
   "cell_type": "markdown",
   "metadata": {},
   "source": [
    "$ x = 0$;\n",
    "$ y = 0$;\n",
    "$ d = 6$;\n",
    "$ \\delta = -90$;\n",
    "$ L = 3$\n",
    "$ W = 2$\n",
    "\n",
    "for strike-slip it is the same as\n",
    "\n",
    "$\\delta = 90$\n",
    " and $rake = 180$\n",
    "\n",
    "but does not generate singularities $ \\tilde d+R=0$ in $I_4$"
   ]
  },
  {
   "cell_type": "code",
   "execution_count": 27,
   "metadata": {
    "collapsed": true
   },
   "outputs": [],
   "source": [
    "L = 3\n",
    "W = 2\n",
    "x = 0\n",
    "y = 0\n",
    "d = 6\n",
    "dip = 90\n",
    "rake = 180\n",
    "strike = 90"
   ]
  },
  {
   "cell_type": "code",
   "execution_count": 29,
   "metadata": {
    "collapsed": true
   },
   "outputs": [],
   "source": [
    "depth = d-np.sin(np.deg2rad(dip))\n",
    "e = x - L/2\n",
    "n = y - np.cos(np.deg2rad(dip))"
   ]
  },
  {
   "cell_type": "markdown",
   "metadata": {},
   "source": [
    "If strike-slip fault (rake=0) then $u_z$  should be 0"
   ]
  },
  {
   "cell_type": "code",
   "execution_count": 33,
   "metadata": {},
   "outputs": [
    {
     "data": {
      "text/plain": [
       "1.2183678576695838e-18"
      ]
     },
     "execution_count": 33,
     "metadata": {},
     "output_type": "execute_result"
    }
   ],
   "source": [
    "okada(n=n, e=e, depth=depth, strike=strike, dip=dip, L=L, W=W, rake=180, slip=1, U3=0)"
   ]
  },
  {
   "cell_type": "markdown",
   "metadata": {},
   "source": [
    "If dip-slip fault (rake=90) then $u_z$  should be 0"
   ]
  },
  {
   "cell_type": "code",
   "execution_count": 31,
   "metadata": {},
   "outputs": [
    {
     "data": {
      "text/plain": [
       "3.5339496460705743e-17"
      ]
     },
     "execution_count": 31,
     "metadata": {},
     "output_type": "execute_result"
    }
   ],
   "source": [
    "okada(n=n, e=e, depth=depth, strike=strike, dip=dip, L=L, W=W, rake=90, slip=1, U3=0)"
   ]
  },
  {
   "cell_type": "markdown",
   "metadata": {},
   "source": [
    "If tensile-slip fault (rake=0, slip = 0, U3=1) then $u_z$  should be -7.740E-3"
   ]
  },
  {
   "cell_type": "code",
   "execution_count": 32,
   "metadata": {
    "scrolled": true
   },
   "outputs": [
    {
     "data": {
      "text/plain": [
       "-0.0077401310862502907"
      ]
     },
     "execution_count": 32,
     "metadata": {},
     "output_type": "execute_result"
    }
   ],
   "source": [
    "okada(n=n, e=e, depth=depth, strike=strike, dip=dip, L=L, W=W, rake=0, slip=0, U3=1)"
   ]
  },
  {
   "cell_type": "markdown",
   "metadata": {},
   "source": [
    "# Finite-fault model example: USGS Chile 2010"
   ]
  },
  {
   "cell_type": "code",
   "execution_count": null,
   "metadata": {
    "collapsed": true
   },
   "outputs": [],
   "source": [
    "import utm"
   ]
  },
  {
   "cell_type": "code",
   "execution_count": null,
   "metadata": {
    "collapsed": true
   },
   "outputs": [],
   "source": [
    "def multi_okada(e,n,xy,depth,strike,dip,L,W,rake,slip):\n",
    "    nfault = data.shape[0]\n",
    "    uz = np.zeros_like(e)\n",
    "    for i in range(nfault):\n",
    "        ce = xy[i,0]\n",
    "        cn = xy[i,1]\n",
    "        U3 = 0.0\n",
    "        uz  += okada(n-cn,e-ce,depth[i],strike[i],dip[i],L[i],W[i],rake[i],slip[i],U3)\n",
    "    return uz"
   ]
  },
  {
   "cell_type": "code",
   "execution_count": null,
   "metadata": {
    "collapsed": true
   },
   "outputs": [],
   "source": [
    "data = np.loadtxt('static_out.txt',skiprows=10)\n",
    "xy = np.array([utm.from_latlon(data[i,0],data[i,1],force_zone_number=18)[0:2] for i in range(data.shape[0])])"
   ]
  },
  {
   "cell_type": "code",
   "execution_count": null,
   "metadata": {
    "collapsed": true
   },
   "outputs": [],
   "source": [
    "e = np.linspace(xy[:,0].min(),xy[:,0].max(),100*2)\n",
    "n = np.linspace(xy[:,1].min(),xy[:,1].max(),100*2)\n",
    "e,n = np.meshgrid(e,n)"
   ]
  },
  {
   "cell_type": "code",
   "execution_count": null,
   "metadata": {
    "collapsed": true
   },
   "outputs": [],
   "source": [
    "depth = data[:,2]*1000.\n",
    "strike = data[:,5]\n",
    "dip = data[:,6]\n",
    "L = 30000.*np.ones((data.shape[0],))\n",
    "W = 20000.*np.ones((data.shape[0],))\n",
    "rake =   data[:,4]\n",
    "slip =  data[:,3]/100."
   ]
  },
  {
   "cell_type": "code",
   "execution_count": null,
   "metadata": {
    "collapsed": true
   },
   "outputs": [],
   "source": [
    "uz = multi_okada(e,n,xy,depth,strike,dip,L,W,rake,slip)"
   ]
  },
  {
   "cell_type": "code",
   "execution_count": null,
   "metadata": {
    "collapsed": true
   },
   "outputs": [],
   "source": [
    "plt.pcolormesh(e,n,uz,vmin=-2,vmax=4.1,shading='gouroud',cmap=plt.cm.jet)\n",
    "plt.axis('equal')"
   ]
  },
  {
   "cell_type": "code",
   "execution_count": null,
   "metadata": {
    "collapsed": true,
    "scrolled": true
   },
   "outputs": [],
   "source": [
    "plt.subplot(121)\n",
    "plt.pcolormesh(e,n,uz,vmin=-2,vmax=4.1,cmap=plt.cm.jet)\n",
    "plt.colorbar()\n",
    "plt.axis('equal');\n",
    "plt.axis('off')\n",
    "\n",
    "plt.subplot(122)\n",
    "plt.scatter(xy[:,0],xy[:,1],c=data[:,3],cmap=plt.cm.jet)\n",
    "plt.colorbar()\n",
    "plt.axis('equal');\n",
    "plt.axis('off')\n",
    "\n",
    "plt.tight_layout()\n",
    "plt.savefig('asdf.png')"
   ]
  },
  {
   "cell_type": "markdown",
   "metadata": {},
   "source": [
    "## With topography"
   ]
  },
  {
   "cell_type": "code",
   "execution_count": null,
   "metadata": {
    "collapsed": true
   },
   "outputs": [],
   "source": [
    "from scipy.io import loadmat\n",
    "h = loadmat('../data/MorenoCS_h')"
   ]
  },
  {
   "cell_type": "code",
   "execution_count": null,
   "metadata": {
    "collapsed": true
   },
   "outputs": [],
   "source": [
    "xb = h['xh'][0,0][0,:]\n",
    "yb = h['yh'][0,0][0,:]\n",
    "zb = h['zh'][0,0]"
   ]
  },
  {
   "cell_type": "code",
   "execution_count": null,
   "metadata": {
    "collapsed": true
   },
   "outputs": [],
   "source": [
    "plt.figure(figsize=(9,9))\n",
    "plt.pcolormesh(xb,yb,zb,cmap=plt.cm.Greens)\n",
    "plt.contour(xb,yb,zb,[0.0])\n",
    "plt.pcolormesh(e,n,uz,vmin=-2,vmax=4.1)\n",
    "plt.colorbar()\n",
    "plt.axis('equal')\n",
    "plt.axis('off')\n",
    "plt.tight_layout()"
   ]
  },
  {
   "cell_type": "code",
   "execution_count": null,
   "metadata": {
    "collapsed": true
   },
   "outputs": [],
   "source": [
    "plt.pcolormesh(zb)\n",
    "plt.colorbar()"
   ]
  },
  {
   "cell_type": "markdown",
   "metadata": {},
   "source": [
    "# Plane fault\n",
    "\n",
    "Data from\n",
    "\n",
    "    XXV CONGRESO LATINOAMERICANO DE HIDRÁULICA\n",
    "    SAN JOSÉ, COSTA RICA, 9 AL 12 DE SETIEMBRE DE 2012\n",
    "    ANÁLISIS ESPECTRAL APLICADO A LOS RESULTADOS DE UN\n",
    "    MODELO NUMÉRICO DEL TSUNAMI DEL 27 DE FEBRERO DE 2010\n",
    "    Luis Burgos G. y Patricio Catalán M."
   ]
  },
  {
   "cell_type": "code",
   "execution_count": null,
   "metadata": {
    "collapsed": true
   },
   "outputs": [],
   "source": [
    "ll = utm.from_latlon(-39.,-75.,force_zone_number=18)\n",
    "ur = utm.from_latlon(-32.,-71.,force_zone_number=18)"
   ]
  },
  {
   "cell_type": "code",
   "execution_count": null,
   "metadata": {
    "collapsed": true
   },
   "outputs": [],
   "source": [
    "ll,ur"
   ]
  },
  {
   "cell_type": "code",
   "execution_count": null,
   "metadata": {
    "collapsed": true
   },
   "outputs": [],
   "source": [
    "utm.from_latlon?"
   ]
  },
  {
   "cell_type": "code",
   "execution_count": null,
   "metadata": {
    "collapsed": true
   },
   "outputs": [],
   "source": [
    "c = utm.from_latlon(-35.95,-73.15)\n",
    "# c = [0.5*(ll[0]+ur[0]),0.5*(ll[1]+ur[1])]\n",
    "e = np.linspace(ll[0],ur[0],100)\n",
    "n = np.linspace(ll[1],ur[1],100)\n",
    "e,n = np.meshgrid(e,n)"
   ]
  },
  {
   "cell_type": "code",
   "execution_count": null,
   "metadata": {
    "collapsed": true
   },
   "outputs": [],
   "source": [
    "depth = 30100\n",
    "strike = 18.\n",
    "dip = 18.\n",
    "L = 450000.\n",
    "W = 150000.\n",
    "rake =   112.\n",
    "slip =  6.06"
   ]
  },
  {
   "cell_type": "code",
   "execution_count": null,
   "metadata": {
    "collapsed": true
   },
   "outputs": [],
   "source": [
    "c"
   ]
  },
  {
   "cell_type": "code",
   "execution_count": null,
   "metadata": {
    "collapsed": true
   },
   "outputs": [],
   "source": [
    "U3 = 1.0\n",
    "\n",
    "uz1  = okada(n-c[1],e-c[0],depth,strike,dip,L,W,rake,slip,U3)"
   ]
  },
  {
   "cell_type": "code",
   "execution_count": null,
   "metadata": {
    "collapsed": true
   },
   "outputs": [],
   "source": [
    "plt.pcolormesh(e,n,uz1,vmin=-2,vmax=4.5)\n",
    "plt.colorbar()\n",
    "plt.contour(xb,yb,zb,[0.0])\n",
    "\n",
    "plt.scatter(c[0],c[1])\n",
    "plt.xlim(ll[0],ur[0])\n",
    "plt.ylim(ll[1],ur[1])\n",
    "# plt.axis('equal')\n",
    "\n"
   ]
  }
 ],
 "metadata": {
  "kernelspec": {
   "display_name": "Python 3",
   "language": "python",
   "name": "python3"
  },
  "language_info": {
   "codemirror_mode": {
    "name": "ipython",
    "version": 3
   },
   "file_extension": ".py",
   "mimetype": "text/x-python",
   "name": "python",
   "nbconvert_exporter": "python",
   "pygments_lexer": "ipython3",
   "version": "3.6.2"
  }
 },
 "nbformat": 4,
 "nbformat_minor": 1
}
